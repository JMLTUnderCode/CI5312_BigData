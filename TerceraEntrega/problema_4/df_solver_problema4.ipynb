{
 "cells": [
  {
   "cell_type": "code",
   "execution_count": 35,
   "metadata": {},
   "outputs": [
    {
     "name": "stdout",
     "output_type": "stream",
     "text": [
      "Sesión de Spark iniciada\n"
     ]
    }
   ],
   "source": [
    "from pyspark.sql import SparkSession\n",
    "from pyspark.sql.functions import col, split, explode, count, month, udf, trim, sum as spark_sum\n",
    "from pyspark.sql.types import StringType, IntegerType\n",
    "from datetime import datetime\n",
    "\n",
    "# Crear la sesión de Spark\n",
    "spark = SparkSession.builder \\\n",
    "    .appName(\"Anime_Zodiac_Pyspark\") \\\n",
    "    .getOrCreate()\n",
    "\n",
    "print(\"Sesión de Spark iniciada\")"
   ]
  },
  {
   "cell_type": "code",
   "execution_count": 36,
   "metadata": {},
   "outputs": [
    {
     "name": "stdout",
     "output_type": "stream",
     "text": [
      "+------+---------------+------+--------------------+--------------------+--------------------+------------+----------+--------+---------+-------+-------+-------------+-------------+---------+----------------+\n",
      "|Mal ID|       Username|Gender|            Birthday|            Location|              Joined|Days Watched|Mean Score|Watching|Completed|On Hold|Dropped|Plan to Watch|Total Entries|Rewatched|Episodes Watched|\n",
      "+------+---------------+------+--------------------+--------------------+--------------------+------------+----------+--------+---------+-------+-------+-------------+-------------+---------+----------------+\n",
      "|     1|          Xinil|  Male|1985-03-04T00:00:...|          California|2004-11-05T00:00:...|       142.3|      7.37|     1.0|    233.0|    8.0|   93.0|         64.0|        399.0|     60.0|          8458.0|\n",
      "|     3|        Aokaado|  Male|                NULL|        Oslo, Norway|2004-11-11T00:00:...|        68.6|      7.34|    23.0|    137.0|   99.0|   44.0|         40.0|        343.0|     15.0|          4072.0|\n",
      "|     4|        Crystal|Female|                NULL|Melbourne, Australia|2004-11-13T00:00:...|       212.8|      6.68|    16.0|    636.0|  303.0|    0.0|         45.0|       1000.0|     10.0|         12781.0|\n",
      "|     9|         Arcane|  NULL|                NULL|                NULL|2004-12-05T00:00:...|        30.0|      7.71|     5.0|     54.0|    4.0|    3.0|          0.0|         66.0|      0.0|          1817.0|\n",
      "|    18|            Mad|  NULL|                NULL|                NULL|2005-01-03T00:00:...|        52.0|      6.27|     1.0|    114.0|   10.0|    5.0|         23.0|        153.0|     42.0|          3038.0|\n",
      "|    20|         vondur|  Male|1988-01-25T00:00:...|      Bergen, Norway|2005-01-05T00:00:...|        73.1|      8.06|    11.0|     94.0|   11.0|    2.0|         20.0|        138.0|      7.0|          4374.0|\n",
      "|    23|          Amuro|  NULL|1988-02-22T00:00:...|              Canada|2005-01-23T00:00:...|       142.5|      7.41|    20.0|    298.0|    5.0|   19.0|         50.0|        392.0|      0.0|          8565.0|\n",
      "|    36|          Baman|  Male|                NULL|Land of Rain and ...|2005-02-05T00:00:...|       272.1|       5.9|    27.0|   1144.0|   11.0|   55.0|        338.0|       1575.0|     36.0|         16309.0|\n",
      "|    44|         beddan|  Male|                NULL|                NULL|2005-02-21T00:00:...|        18.6|       7.6|     0.0|     37.0|    0.0|    0.0|          0.0|         37.0|      0.0|          1083.0|\n",
      "|    47|      kei-clone|  Male|                NULL|31f288172a11dea9f...|2005-03-09T00:00:...|        34.5|      6.84|    15.0|    104.0|   22.0|    3.0|         19.0|        163.0|      1.0|          2054.0|\n",
      "|    53|     Ladholyman|  NULL|                NULL|                NULL|2005-03-19T00:00:...|        11.5|      9.24|     0.0|     51.0|    0.0|    0.0|          0.0|         51.0|      0.0|           693.0|\n",
      "|    66|         Hiromi|  Male|1990-02-09T00:00:...|         Calgary, AB|2005-04-01T00:00:...|        70.6|      7.53|    34.0|    148.0|   13.0|    6.0|         10.0|        211.0|     50.0|          4117.0|\n",
      "|    70|         Cruzle|  Male|1983-11-09T00:00:...|                NULL|2005-04-14T00:00:...|        78.0|      7.18|    30.0|    135.0|    9.0|    8.0|         22.0|        204.0|     15.0|          4694.0|\n",
      "|    71|          Smoka|  NULL|                NULL|                NULL|2005-04-21T00:00:...|        22.9|      8.01|     2.0|     67.0|   11.0|    0.0|          0.0|         80.0|      0.0|          1295.0|\n",
      "|    77|            Emp|Female|                NULL|                NULL|2005-04-26T00:00:...|        67.5|      6.38|    13.0|    297.0|    0.0|    0.0|          2.0|        312.0|      0.0|          3955.0|\n",
      "|    80|      koalatees|  NULL|1991-10-24T00:00:...|                NULL|2005-04-27T00:00:...|        12.2|       7.1|     4.0|     31.0|    0.0|   41.0|          0.0|         76.0|      0.0|           744.0|\n",
      "|    82|         Achtor|  Male|1989-06-10T00:00:...|       Paris, France|2005-04-29T00:00:...|        47.0|      7.17|     6.0|    153.0|   36.0|   20.0|        101.0|        316.0|      0.0|          2922.0|\n",
      "|    83|         jaames|  Male|                NULL| Seattle, Washington|2005-04-30T00:00:...|        12.5|      8.71|     3.0|     16.0|    0.0|    0.0|          0.0|         19.0|      0.0|           745.0|\n",
      "|    90|           xich|Female|                NULL|                NULL|2005-05-10T00:00:...|        58.8|      8.29|     2.0|    122.0|    7.0|   53.0|          9.0|        193.0|      5.0|          3557.0|\n",
      "|    91|marvin_9martian|Female|                NULL|              Canada|2005-05-10T00:00:...|        36.4|      6.66|     4.0|     57.0|    4.0|   31.0|         29.0|        125.0|      1.0|          2187.0|\n",
      "+------+---------------+------+--------------------+--------------------+--------------------+------------+----------+--------+---------+-------+-------+-------------+-------------+---------+----------------+\n",
      "only showing top 20 rows\n",
      "\n"
     ]
    }
   ],
   "source": [
    "# Ruta al archivo CSV\n",
    "# users_path = \"../../tests/users-details-2023.csv\"\n",
    "users_path = \"../../tests/users-details-2023.csv\"\n",
    "\n",
    "\n",
    "users_df = spark.read.format(\"csv\") \\\n",
    "    .option(\"header\", \"true\") \\\n",
    "    .option(\"quote\", \"\\\"\") \\\n",
    "    .option(\"escape\", \"\\\"\") \\\n",
    "    .load(users_path)\n",
    "\n",
    "users_df.show(20)"
   ]
  },
  {
   "cell_type": "code",
   "execution_count": 37,
   "metadata": {},
   "outputs": [
    {
     "name": "stdout",
     "output_type": "stream",
     "text": [
      "+--------+--------------------+-----+--------------------+--------------------+------------------------------+--------------------+-----+--------+--------------------+-----------+--------------------+--------------------+----------------+-----------+---------------+--------------------+------+----------+-------+---------+--------+---------+-------+-------+\n",
      "|anime_id|                Name|Score|              Genres|        English name|                 Japanese name|           sypnopsis| Type|Episodes|               Aired|  Premiered|           Producers|           Licensors|         Studios|     Source|       Duration|              Rating|Ranked|Popularity|Members|Favorites|Watching|Completed|On-Hold|Dropped|\n",
      "+--------+--------------------+-----+--------------------+--------------------+------------------------------+--------------------+-----+--------+--------------------+-----------+--------------------+--------------------+----------------+-----------+---------------+--------------------+------+----------+-------+---------+--------+---------+-------+-------+\n",
      "|       1|        Cowboy Bebop| 8.78|Action, Adventure...|        Cowboy Bebop|            カウボーイビバップ|In the year 2071,...|   TV|      26|Apr 3, 1998 to Ap...|Spring 1998|       Bandai Visual|Funimation, Banda...|         Sunrise|   Original|24 min. per ep.|R - 17+ (violence...|  28.0|        39|1251960|    61971|  105808|   718161|  71513|  26678|\n",
      "|       5|Cowboy Bebop: Ten...| 8.39|Action, Drama, My...|Cowboy Bebop:The ...|   カウボーイビバップ 天国の扉|other day, anothe...|Movie|       1|         Sep 1, 2001|    Unknown|Sunrise, Bandai V...|Sony Pictures Ent...|           Bones|   Original|  1 hr. 55 min.|R - 17+ (violence...| 159.0|       518| 273145|     1174|    4143|   208333|   1935|    770|\n",
      "|       6|              Trigun| 8.24|Action, Sci-Fi, A...|              Trigun|                    トライガン|Vash the Stampede...|   TV|      26|Apr 1, 1998 to Se...|Spring 1998|Victor Entertainment|Funimation, Geneo...|        Madhouse|      Manga|24 min. per ep.|PG-13 - Teens 13 ...| 266.0|       201| 558913|    12944|   29113|   343492|  25465|  13925|\n",
      "|       7|  Witch Hunter Robin| 7.27|Action, Mystery, ...|  Witch Hunter Robin|          Witch Hunter ROBI...|ches are individu...|   TV|      26|Jul 2, 2002 to De...|Summer 2002|TV Tokyo, Bandai ...|Funimation, Banda...|         Sunrise|   Original|25 min. per ep.|PG-13 - Teens 13 ...|2481.0|      1467|  94683|      587|    4300|    46165|   5121|   5378|\n",
      "|       8|      Bouken Ou Beet| 6.98|Adventure, Fantas...|Beet the Vandel B...|                  冒険王ビィト|It is the dark ce...|   TV|      52|Sep 30, 2004 to S...|  Fall 2004|    TV Tokyo, Dentsu|             Unknown|  Toei Animation|      Manga|23 min. per ep.|       PG - Children|3710.0|      4369|  13224|       18|     642|     7314|    766|   1108|\n",
      "|      15|        Eyeshield 21| 7.95|Action, Sports, C...|             Unknown|                アイシールド21|Sena is like any ...|   TV|     145|Apr 6, 2005 to Ma...|Spring 2005|TV Tokyo, Nihon A...|VIZ Media, Sentai...|          Gallop|      Manga|23 min. per ep.|PG-13 - Teens 13 ...| 604.0|      1003| 148259|     2066|   13907|    78349|  14228|  11573|\n",
      "|      16|Hachimitsu to Clover| 8.06|Comedy, Drama, Jo...|    Honey and Clover|          ハチミツとクローバー|Yuuta Takemoto, a...|   TV|      24|Apr 15, 2005 to S...|Spring 2005|Genco, Fuji TV, S...|VIZ Media, Discot...|       J.C.Staff|      Manga|23 min. per ep.|PG-13 - Teens 13 ...| 468.0|       687| 214499|     4101|   11909|    81145|  11901|  11026|\n",
      "|      17|Hungry Heart: Wil...| 7.59|Slice of Life, Co...|             Unknown|  ハングリーハート Wild Str...|Kyosuke Kano has ...|   TV|      52|Sep 11, 2002 to S...|  Fall 2002|             Unknown|             Unknown|Nippon Animation|      Manga|23 min. per ep.|PG-13 - Teens 13 ...|1317.0|      3612|  20470|      231|     817|    13778|    828|   1168|\n",
      "|      18|Initial D Fourth ...| 8.15|Action, Cars, Spo...|             Unknown|頭文字〈イニシャル〉D FOURT...|Takumi Fujiwara f...|   TV|      24|Apr 17, 2004 to F...|Spring 2004|OB Planning, Stud...|          Funimation|        A.C.G.T.|      Manga|27 min. per ep.|PG-13 - Teens 13 ...| 360.0|      1233| 117929|      979|    6082|    90967|   3053|   1356|\n",
      "|      19|             Monster| 8.76|Drama, Horror, My...|             Monster|                    モンスター|Dr. Kenzou Tenma,...|   TV|      74|Apr 7, 2004 to Se...|Spring 2004|VAP, Shogakukan-S...|           VIZ Media|        Madhouse|      Manga|24 min. per ep.|    R+ - Mild Nudity|  30.0|       169| 614100|    29436|   64648|   214491|  47488|  23008|\n",
      "|      20|              Naruto| 7.91|Action, Adventure...|              Naruto|                        ナルト|oments prior to N...|   TV|     220|Oct 3, 2002 to Fe...|  Fall 2002|TV Tokyo, Aniplex...|           VIZ Media|  Studio Pierrot|      Manga|23 min. per ep.|PG-13 - Teens 13 ...| 660.0|         8|1830540|    65586|  137167|  1462223|  61734|  99806|\n",
      "|      21|           One Piece| 8.52|Action, Adventure...|           One Piece|                     ONE PIECE|Gol D. Roger was ...|   TV| Unknown|   Oct 20, 1999 to ?|  Fall 1999|Fuji TV, TAP, Shu...|Funimation, 4Kids...|  Toei Animation|      Manga|        24 min.|PG-13 - Teens 13 ...|  95.0|        31|1352724|   126645|  887333|       33| 187919| 136245|\n",
      "|      22| Tennis no Ouji-sama|  7.9|Action, Comedy, S...|The Prince of Tennis|                テニスの王子様|The world of tenn...|   TV|     178|Oct 10, 2001 to M...|  Fall 2001|Production I.G, N...|           VIZ Media|      Trans Arts|      Manga|22 min. per ep.|PG-13 - Teens 13 ...| 675.0|      1039| 141832|     3124|   11235|    76881|  12905|  12516|\n",
      "|      23|    Ring ni Kakero 1| 6.38|Action, Shounen, ...|             Unknown|              リングにかけろ１|In order to fulfi...|   TV|      12|Oct 6, 2004 to De...|  Fall 2004|             Unknown|             Unknown|  Toei Animation|      Manga|25 min. per ep.|       PG - Children|6493.0|      7333|   3648|       16|     170|     1333|    145|    296|\n",
      "|      24|       School Rumble| 7.94|Comedy, Romance, ...|       School Rumble|              スクールランブル|Just the words \"I...|   TV|      26|Oct 5, 2004 to Ma...|  Fall 2004|TV Tokyo, Sotsu, ...|          Funimation|    Studio Comet|      Manga|23 min. per ep.|PG-13 - Teens 13 ...| 625.0|       514| 275464|     5137|   12277|   157789|  12856|  13491|\n",
      "|      25|           Sunabouzu| 7.42|Action, Adventure...|         Desert Punk|                      砂ぼうず|The Great Kanto D...|   TV|      24|Oct 6, 2004 to Ma...|  Fall 2004|GDH, Pony Canyon,...|          Funimation|           Gonzo|      Manga|24 min. per ep.|R - 17+ (violence...|1844.0|      1284| 111734|      790|    6273|    53819|   6255|   7951|\n",
      "|      26|          Texhnolyze| 7.76|Action, Sci-Fi, P...|          Texhnolyze|                    TEXHNOLYZE|Texhnolyze takes ...|   TV|      22|Apr 17, 2003 to S...|Spring 2003|Group TAC, Rondo ...|Funimation, Geneo...|        Madhouse|   Original|23 min. per ep.|    R+ - Mild Nudity| 896.0|       823| 182599|     3671|   11335|    47532|   9815|   8112|\n",
      "|      27|       Trinity Blood| 7.32|Action, Supernatu...|       Trinity Blood|          トリニティ・ブラッド|Following Armaged...|   TV|      24|Apr 29, 2005 to O...|Spring 2005|             Unknown|          Funimation|           Gonzo|Light novel|24 min. per ep.|R - 17+ (violence...|2240.0|       936| 158343|     1479|    7794|    87958|   8940|   9349|\n",
      "|      28|    Yakitate!! Japan| 7.95|     Comedy, Shounen|    Yakitate!! Japan|           焼きたて!! ジャぱん|hile countries su...|   TV|      69|Oct 12, 2004 to M...|  Fall 2004|TV Tokyo, Aniplex...|Nozomi Entertainment|         Sunrise|      Manga|24 min. per ep.|PG-13 - Teens 13 ...| 609.0|      1666|  80183|      887|    5007|    39992|   5764|   4633|\n",
      "|      29|              Zipang| 7.51|Action, Military,...|             Unknown|                      ジパング|ai, an improved K...|   TV|      26|Oct 8, 2004 to Ap...|  Fall 2004|      Marvelous, TBS|Geneon Entertainm...|     Studio Deen|      Manga|24 min. per ep.|PG-13 - Teens 13 ...|1565.0|      3985|  16652|      152|     857|     6807|    721|    599|\n",
      "+--------+--------------------+-----+--------------------+--------------------+------------------------------+--------------------+-----+--------+--------------------+-----------+--------------------+--------------------+----------------+-----------+---------------+--------------------+------+----------+-------+---------+--------+---------+-------+-------+\n",
      "only showing top 20 rows\n",
      "\n"
     ]
    }
   ],
   "source": [
    "# Ruta al archivo CSV\n",
    "# animes_path = \"../../tests/anime-filtered.csv\"\n",
    "animes_path = \"../../tests/anime-filtered.csv\"\n",
    "\n",
    "animes_df = spark.read.format(\"csv\") \\\n",
    "    .option(\"header\", \"true\") \\\n",
    "    .option(\"quote\", \"\\\"\") \\\n",
    "    .option(\"escape\", \"\\\"\") \\\n",
    "    .load(animes_path)\n",
    "\n",
    "animes_df.show(20)"
   ]
  },
  {
   "cell_type": "code",
   "execution_count": 38,
   "metadata": {},
   "outputs": [],
   "source": [
    "# Función para determinar el signo zodiacal\n",
    "def get_zodiac_sign(birthday):\n",
    "    if not birthday:\n",
    "        return \"Unknown\"\n",
    "    try:\n",
    "        date = datetime.fromisoformat(birthday)\n",
    "        month, day = date.month, date.day\n",
    "        zodiac = [\n",
    "            (\"Capricorn\", (12, 22), (1, 19)),\n",
    "            (\"Aquarius\", (1, 20), (2, 18)),\n",
    "            (\"Pisces\", (2, 19), (3, 20)),\n",
    "            (\"Aries\", (3, 21), (4, 19)),\n",
    "            (\"Taurus\", (4, 20), (5, 20)),\n",
    "            (\"Gemini\", (5, 21), (6, 20)),\n",
    "            (\"Cancer\", (6, 21), (7, 22)),\n",
    "            (\"Leo\", (7, 23), (8, 22)),\n",
    "            (\"Virgo\", (8, 23), (9, 22)),\n",
    "            (\"Libra\", (9, 23), (10, 22)),\n",
    "            (\"Scorpio\", (10, 23), (11, 21)),\n",
    "            (\"Sagittarius\", (11, 22), (12, 21)),\n",
    "        ]\n",
    "        for sign, start, end in zodiac:\n",
    "            if (month == start[0] and day >= start[1]) or (month == end[0] and day <= end[1]):\n",
    "                return sign\n",
    "    except:\n",
    "        return \"2\"\n",
    "    return \"3\"\n",
    "\n",
    "# Registrar la función como UDF en Spark\n",
    "get_zodiac_sign_udf = udf(get_zodiac_sign, StringType())"
   ]
  },
  {
   "cell_type": "code",
   "execution_count": 39,
   "metadata": {},
   "outputs": [
    {
     "name": "stderr",
     "output_type": "stream",
     "text": [
      "[Stage 5:=========>                                                 (1 + 5) / 6]\r"
     ]
    },
    {
     "name": "stdout",
     "output_type": "stream",
     "text": [
      "+----------+-------------+-----+\n",
      "|ZodiacSign|Genre        |Count|\n",
      "+----------+-------------+-----+\n",
      "|Aquarius  |Comedy       |137  |\n",
      "|Aquarius  |Action       |93   |\n",
      "|Aquarius  |Fantasy      |89   |\n",
      "|Aquarius  |Adventure    |77   |\n",
      "|Aquarius  |Sci-Fi       |58   |\n",
      "|Aquarius  |Drama        |58   |\n",
      "|Aquarius  |Shounen      |49   |\n",
      "|Aquarius  |Slice of Life|48   |\n",
      "|Aquarius  |Kids         |44   |\n",
      "|Aquarius  |School       |41   |\n",
      "|Aquarius  |Romance      |39   |\n",
      "|Aquarius  |Hentai       |38   |\n",
      "|Aquarius  |Supernatural |31   |\n",
      "|Aquarius  |Music        |30   |\n",
      "|Aquarius  |Ecchi        |28   |\n",
      "|Aquarius  |Magic        |27   |\n",
      "|Aquarius  |Historical   |25   |\n",
      "|Aquarius  |Mecha        |23   |\n",
      "|Aquarius  |Mystery      |19   |\n",
      "|Aquarius  |Parody       |18   |\n",
      "|Aquarius  |Sports       |17   |\n",
      "|Aquarius  |Seinen       |17   |\n",
      "|Aquarius  |Shoujo       |15   |\n",
      "|Aquarius  |Martial Arts |15   |\n",
      "|Aquarius  |Super Power  |14   |\n",
      "|Aquarius  |Game         |12   |\n",
      "|Aquarius  |Military     |11   |\n",
      "|Aquarius  |Psychological|10   |\n",
      "|Aquarius  |Space        |8    |\n",
      "|Aquarius  |Horror       |8    |\n",
      "|Aquarius  |Samurai      |8    |\n",
      "|Aquarius  |Police       |7    |\n",
      "|Aquarius  |Demons       |7    |\n",
      "|Aquarius  |Josei        |5    |\n",
      "|Aquarius  |Dementia     |5    |\n",
      "|Aquarius  |Shounen Ai   |4    |\n",
      "|Aquarius  |Vampire      |3    |\n",
      "|Aquarius  |Yaoi         |3    |\n",
      "|Aquarius  |Cars         |3    |\n",
      "|Aquarius  |Shoujo Ai    |1    |\n",
      "|Aquarius  |Harem        |1    |\n",
      "|Aries     |Comedy       |128  |\n",
      "|Aries     |Action       |79   |\n",
      "|Aries     |Fantasy      |73   |\n",
      "|Aries     |Sci-Fi       |66   |\n",
      "|Aries     |Adventure    |65   |\n",
      "|Aries     |Drama        |57   |\n",
      "|Aries     |Shounen      |55   |\n",
      "|Aries     |School       |45   |\n",
      "|Aries     |Hentai       |44   |\n",
      "+----------+-------------+-----+\n",
      "only showing top 50 rows\n",
      "\n"
     ]
    },
    {
     "name": "stderr",
     "output_type": "stream",
     "text": [
      "                                                                                \r"
     ]
    }
   ],
   "source": [
    "# Asociar Signo Zodiacal con género, y contar la cantidad de veces que cada signo consume un género\n",
    "\n",
    "# Agregar la columna del signo zodiacal\n",
    "users_df = users_df.withColumn(\"ZodiacSign\", get_zodiac_sign_udf(col(\"Birthday\")))\n",
    "\n",
    "# Relacionar usuarios con los géneros de anime consumidos\n",
    "anime_users_df = users_df.join(animes_df, users_df[\"Mal ID\"] == animes_df[\"anime_id\"], \"inner\").select(\"ZodiacSign\", \"Genres\")\n",
    "\n",
    "# Explode de géneros (ya que un anime puede tener múltiples géneros separados por comas)\n",
    "anime_users_df = anime_users_df.withColumn(\"Genre\", explode(split(col(\"Genres\"), \",\")))\n",
    "\n",
    "# Aplicar trim para eliminar espacios en blanco alrededor de los géneros\n",
    "anime_users_df = anime_users_df.withColumn(\"Genre\", trim(col(\"Genre\")))\n",
    "# Contar la cantidad de veces que cada signo consume un género\n",
    "zodiac_genre_count = anime_users_df.groupBy(\"ZodiacSign\", \"Genre\").agg(count(\"*\").alias(\"Count\"))\n",
    "\n",
    "zodiac_genre_count = zodiac_genre_count.sort(col(\"ZodiacSign\").asc(), col(\"Count\").desc())\n",
    "\n",
    "# Mostrar resultados\n",
    "zodiac_genre_count.show(50, truncate=False)"
   ]
  },
  {
   "cell_type": "code",
   "execution_count": 40,
   "metadata": {},
   "outputs": [
    {
     "name": "stderr",
     "output_type": "stream",
     "text": [
      "                                                                                \r"
     ]
    }
   ],
   "source": [
    "# Escribir el DataFrame en un archivo CSV con el nombre \"zodiac_genre_count\"\n",
    "zodiac_genre_count.write.csv(\"zodiac_genre_count\", header=True, mode=\"overwrite\")"
   ]
  },
  {
   "cell_type": "code",
   "execution_count": 41,
   "metadata": {},
   "outputs": [],
   "source": [
    "# Definir una UDF para extraer el mes a partir del campo \"Aired\"\n",
    "def extract_month(aired):\n",
    "    try:\n",
    "        # Se asume que el campo \"Aired\" tiene el formato: \"Jan 10, 2020 to Feb 20, 2020\"\n",
    "        # Se toma la primera fecha (antes de \"to\") y se extrae el mes.\n",
    "        first_date = aired.split(\"to\")[0].strip()\n",
    "        dt = datetime.strptime(first_date, \"%b %d, %Y\")\n",
    "        return dt.month\n",
    "    except Exception:\n",
    "        return None\n",
    "\n",
    "extract_month_udf = udf(extract_month, IntegerType())"
   ]
  },
  {
   "cell_type": "code",
   "execution_count": 42,
   "metadata": {},
   "outputs": [
    {
     "name": "stdout",
     "output_type": "stream",
     "text": [
      "+--------+-----------------+\n",
      "|anime_id|publication_month|\n",
      "+--------+-----------------+\n",
      "|       1|                4|\n",
      "|       5|                9|\n",
      "|       6|                4|\n",
      "|       7|                7|\n",
      "|       8|                9|\n",
      "|      15|                4|\n",
      "|      16|                4|\n",
      "|      17|                9|\n",
      "|      18|                4|\n",
      "|      19|                4|\n",
      "|      20|               10|\n",
      "|      21|               10|\n",
      "|      22|               10|\n",
      "|      23|               10|\n",
      "|      24|               10|\n",
      "|      25|               10|\n",
      "|      26|                4|\n",
      "|      27|                4|\n",
      "|      28|               10|\n",
      "|      29|               10|\n",
      "+--------+-----------------+\n",
      "only showing top 20 rows\n",
      "\n"
     ]
    }
   ],
   "source": [
    "# Agregar la columna \"publication_month\", parseo, y filtrar aquellos registros sin mes válido\n",
    "anime_pub_month_df = animes_df.withColumn(\"publication_month\", extract_month_udf(col(\"Aired\"))) \\\n",
    "                   .filter(col(\"publication_month\").isNotNull()) \\\n",
    "                   .select(\"anime_id\", \"publication_month\")\n",
    "\n",
    "\n",
    "anime_pub_month_df.show(20)\n",
    "\n"
   ]
  },
  {
   "cell_type": "code",
   "execution_count": 55,
   "metadata": {},
   "outputs": [
    {
     "name": "stderr",
     "output_type": "stream",
     "text": [
      "                                                                                \r"
     ]
    },
    {
     "name": "stdout",
     "output_type": "stream",
     "text": [
      "+----------+-----------------+-------+\n",
      "|ZodiacSign|publication_month|Counter|\n",
      "+----------+-----------------+-------+\n",
      "|Aquarius  |1                |1521888|\n",
      "|Aquarius  |2                |842310 |\n",
      "|Aquarius  |3                |1346550|\n",
      "|Aquarius  |4                |2366490|\n",
      "|Aquarius  |5                |711666 |\n",
      "|Aquarius  |6                |829704 |\n",
      "|Aquarius  |7                |1867980|\n",
      "|Aquarius  |8                |1031400|\n",
      "|Aquarius  |9                |895026 |\n",
      "|Aquarius  |10               |2242722|\n",
      "|Aquarius  |11               |821682 |\n",
      "|Aquarius  |12               |1220490|\n",
      "|Aries     |1                |1460800|\n",
      "|Aries     |2                |808500 |\n",
      "|Aries     |3                |1292500|\n",
      "|Aries     |4                |2271500|\n",
      "|Aries     |5                |683100 |\n",
      "|Aries     |6                |796400 |\n",
      "|Aries     |7                |1793000|\n",
      "|Aries     |8                |990000 |\n",
      "|Aries     |9                |859100 |\n",
      "|Aries     |10               |2152700|\n",
      "|Aries     |11               |788700 |\n",
      "|Aries     |12               |1171500|\n",
      "|Cancer    |1                |1630784|\n",
      "|Cancer    |2                |902580 |\n",
      "|Cancer    |3                |1442900|\n",
      "|Cancer    |4                |2535820|\n",
      "|Cancer    |5                |762588 |\n",
      "|Cancer    |6                |889072 |\n",
      "|Cancer    |7                |2001640|\n",
      "|Cancer    |8                |1105200|\n",
      "|Cancer    |9                |959068 |\n",
      "|Cancer    |10               |2403196|\n",
      "|Cancer    |11               |880476 |\n",
      "|Cancer    |12               |1307820|\n",
      "|Capricorn |1                |1663984|\n",
      "|Capricorn |2                |920955 |\n",
      "|Capricorn |3                |1472275|\n",
      "|Capricorn |4                |2587445|\n",
      "|Capricorn |5                |778113 |\n",
      "|Capricorn |6                |907172 |\n",
      "|Capricorn |7                |2042390|\n",
      "|Capricorn |8                |1127700|\n",
      "|Capricorn |9                |978593 |\n",
      "|Capricorn |10               |2452121|\n",
      "|Capricorn |11               |898401 |\n",
      "|Capricorn |12               |1334445|\n",
      "|Gemini    |1                |1679920|\n",
      "|Gemini    |2                |929775 |\n",
      "+----------+-----------------+-------+\n",
      "only showing top 50 rows\n",
      "\n"
     ]
    },
    {
     "name": "stderr",
     "output_type": "stream",
     "text": [
      "                                                                                \r"
     ]
    }
   ],
   "source": [
    "from pyspark.sql.functions import sum as spark_sum\n",
    "\n",
    "# Realizar el cross join entre anime_pub_month_df y zodiac_genre_count\n",
    "cross_join_df = zodiac_genre_count.crossJoin(anime_pub_month_df).orderBy(\"ZodiacSign\", \"publication_month\")\n",
    "\n",
    "# Agrupar por ZodiacSign y publication_month, y sumar los valores de Count\n",
    "zodiac_month_count = cross_join_df.groupBy(\"ZodiacSign\", \"publication_month\") \\\n",
    "    .agg(spark_sum(\"Count\").alias(\"Counter\")).sort(col(\"ZodiacSign\").asc(), col(\"publication_month\").asc())\n",
    "\n",
    "# Mostrar los resultados\n",
    "zodiac_month_count.show(50, truncate=False)\n",
    "# Escribir el DataFrame en un archivo CSV con el nombre \"zodiac_month_count\"\n",
    "zodiac_month_count.write.csv(\"zodiac_month_count\", header=True, mode=\"overwrite\")"
   ]
  },
  {
   "cell_type": "code",
   "execution_count": null,
   "metadata": {},
   "outputs": [],
   "source": [
    "# Detener la sesión de Spark\n",
    "spark.stop()"
   ]
  }
 ],
 "metadata": {
  "kernelspec": {
   "display_name": "env",
   "language": "python",
   "name": "python3"
  },
  "language_info": {
   "codemirror_mode": {
    "name": "ipython",
    "version": 3
   },
   "file_extension": ".py",
   "mimetype": "text/x-python",
   "name": "python",
   "nbconvert_exporter": "python",
   "pygments_lexer": "ipython3",
   "version": "3.12.3"
  }
 },
 "nbformat": 4,
 "nbformat_minor": 2
}
