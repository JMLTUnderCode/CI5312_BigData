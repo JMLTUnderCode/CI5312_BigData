{
 "cells": [
  {
   "cell_type": "code",
   "execution_count": 1,
   "metadata": {},
   "outputs": [],
   "source": [
    "from pyspark.sql import SparkSession\n",
    "from pyspark.sql.functions import col\n",
    "from pyspark.sql.types import StructType, StructField, StringType, IntegerType, LongType, FloatType"
   ]
  },
  {
   "cell_type": "code",
   "execution_count": 2,
   "metadata": {},
   "outputs": [
    {
     "name": "stderr",
     "output_type": "stream",
     "text": [
      "your 131072x1 screen size is bogus. expect trouble\n",
      "Setting default log level to \"WARN\".\n",
      "To adjust logging level use sc.setLogLevel(newLevel). For SparkR, use setLogLevel(newLevel).\n",
      "25/03/26 23:08:27 WARN NativeCodeLoader: Unable to load native-hadoop library for your platform... using builtin-java classes where applicable\n"
     ]
    }
   ],
   "source": [
    "spark = SparkSession\\\n",
    "    .builder\\\n",
    "    .appName(\"PythonSort\")\\\n",
    "    .getOrCreate()"
   ]
  },
  {
   "cell_type": "code",
   "execution_count": null,
   "metadata": {},
   "outputs": [
    {
     "name": "stderr",
     "output_type": "stream",
     "text": [
      "                                                                                \r"
     ]
    },
    {
     "name": "stdout",
     "output_type": "stream",
     "text": [
      "+------+---------+------+--------------------+--------------------+--------------------+------------+----------+--------+---------+-------+-------+-------------+-------------+---------+----------------+\n",
      "|Mal ID| Username|Gender|            Birthday|            Location|              Joined|Days Watched|Mean Score|Watching|Completed|On Hold|Dropped|Plan to Watch|Total Entries|Rewatched|Episodes Watched|\n",
      "+------+---------+------+--------------------+--------------------+--------------------+------------+----------+--------+---------+-------+-------+-------------+-------------+---------+----------------+\n",
      "|     1|    Xinil|  Male|1985-03-04T00:00:...|          California|2004-11-05T00:00:...|       142.3|      7.37|     1.0|    233.0|    8.0|   93.0|         64.0|        399.0|     60.0|          8458.0|\n",
      "|     3|  Aokaado|  Male|                NULL|        Oslo, Norway|2004-11-11T00:00:...|        68.6|      7.34|    23.0|    137.0|   99.0|   44.0|         40.0|        343.0|     15.0|          4072.0|\n",
      "|     4|  Crystal|Female|                NULL|Melbourne, Australia|2004-11-13T00:00:...|       212.8|      6.68|    16.0|    636.0|  303.0|    0.0|         45.0|       1000.0|     10.0|         12781.0|\n",
      "|     9|   Arcane|  NULL|                NULL|                NULL|2004-12-05T00:00:...|        30.0|      7.71|     5.0|     54.0|    4.0|    3.0|          0.0|         66.0|      0.0|          1817.0|\n",
      "|    18|      Mad|  NULL|                NULL|                NULL|2005-01-03T00:00:...|        52.0|      6.27|     1.0|    114.0|   10.0|    5.0|         23.0|        153.0|     42.0|          3038.0|\n",
      "|    20|   vondur|  Male|1988-01-25T00:00:...|      Bergen, Norway|2005-01-05T00:00:...|        73.1|      8.06|    11.0|     94.0|   11.0|    2.0|         20.0|        138.0|      7.0|          4374.0|\n",
      "|    23|    Amuro|  NULL|1988-02-22T00:00:...|              Canada|2005-01-23T00:00:...|       142.5|      7.41|    20.0|    298.0|    5.0|   19.0|         50.0|        392.0|      0.0|          8565.0|\n",
      "|    36|    Baman|  Male|                NULL|Land of Rain and ...|2005-02-05T00:00:...|       272.1|       5.9|    27.0|   1144.0|   11.0|   55.0|        338.0|       1575.0|     36.0|         16309.0|\n",
      "|    44|   beddan|  Male|                NULL|                NULL|2005-02-21T00:00:...|        18.6|       7.6|     0.0|     37.0|    0.0|    0.0|          0.0|         37.0|      0.0|          1083.0|\n",
      "|    47|kei-clone|  Male|                NULL|31f288172a11dea9f...|2005-03-09T00:00:...|        34.5|      6.84|    15.0|    104.0|   22.0|    3.0|         19.0|        163.0|      1.0|          2054.0|\n",
      "+------+---------+------+--------------------+--------------------+--------------------+------------+----------+--------+---------+-------+-------+-------------+-------------+---------+----------------+\n",
      "only showing top 10 rows\n",
      "\n"
     ]
    }
   ],
   "source": [
    "# Para esta primera parte basta con inferencia para extraer la data necesaria.\n",
    "file = \"../tests/vshort-users-details-2023.csv\"\n",
    "\n",
    "df = spark\\\n",
    "\t.read\\\n",
    "\t.format(\"csv\")\\\n",
    "\t.option(\"header\", \"true\")\\\n",
    "\t.load(file)"
   ]
  },
  {
   "cell_type": "code",
   "execution_count": null,
   "metadata": {},
   "outputs": [
    {
     "ename": "NameError",
     "evalue": "name 'structField' is not defined",
     "output_type": "error",
     "traceback": [
      "\u001b[31m---------------------------------------------------------------------------\u001b[39m",
      "\u001b[31mNameError\u001b[39m                                 Traceback (most recent call last)",
      "\u001b[36mCell\u001b[39m\u001b[36m \u001b[39m\u001b[32mIn[20]\u001b[39m\u001b[32m, line 3\u001b[39m\n\u001b[32m      1\u001b[39m explicit_schema = StructType([\n\u001b[32m      2\u001b[39m \tStructField(\u001b[33m\"\u001b[39m\u001b[33mMal ID\u001b[39m\u001b[33m\"\u001b[39m, LongType(), \u001b[38;5;28;01mFalse\u001b[39;00m),\n\u001b[32m----> \u001b[39m\u001b[32m3\u001b[39m \t\u001b[43mstructField\u001b[49m(\u001b[33m\"\u001b[39m\u001b[33mLocation\u001b[39m\u001b[33m\"\u001b[39m, StringType(), \u001b[38;5;28;01mTrue\u001b[39;00m)\n\u001b[32m      4\u001b[39m ])\n",
      "\u001b[31mNameError\u001b[39m: name 'structField' is not defined"
     ]
    }
   ],
   "source": []
  },
  {
   "cell_type": "code",
   "execution_count": 16,
   "metadata": {},
   "outputs": [],
   "source": [
    "spark.stop()"
   ]
  }
 ],
 "metadata": {
  "kernelspec": {
   "display_name": "env",
   "language": "python",
   "name": "python3"
  },
  "language_info": {
   "codemirror_mode": {
    "name": "ipython",
    "version": 3
   },
   "file_extension": ".py",
   "mimetype": "text/x-python",
   "name": "python",
   "nbconvert_exporter": "python",
   "pygments_lexer": "ipython3",
   "version": "3.12.3"
  }
 },
 "nbformat": 4,
 "nbformat_minor": 2
}
