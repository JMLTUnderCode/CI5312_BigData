{
 "cells": [
  {
   "cell_type": "code",
   "execution_count": 2,
   "metadata": {},
   "outputs": [],
   "source": [
    "\"\"\"\n",
    "\tAutores:\n",
    "\t- Astrid Alvarado\n",
    "\t- Junior Lara\n",
    "\"\"\"\n",
    "\n",
    "# Asegurese de seleccionar el Kernel de Python 3, puede depender de su entorno.\n",
    "\n",
    "from pyspark.sql import SparkSession"
   ]
  },
  {
   "cell_type": "code",
   "execution_count": 3,
   "metadata": {},
   "outputs": [
    {
     "name": "stderr",
     "output_type": "stream",
     "text": [
      "your 131072x1 screen size is bogus. expect trouble\n",
      "Setting default log level to \"WARN\".\n",
      "To adjust logging level use sc.setLogLevel(newLevel). For SparkR, use setLogLevel(newLevel).\n",
      "25/04/01 01:50:50 WARN NativeCodeLoader: Unable to load native-hadoop library for your platform... using builtin-java classes where applicable\n"
     ]
    }
   ],
   "source": [
    "spark = SparkSession\\\n",
    "    .builder\\\n",
    "    .appName(\"Solver problema 3 - SQL\")\\\n",
    "    .getOrCreate()"
   ]
  },
  {
   "cell_type": "code",
   "execution_count": 4,
   "metadata": {},
   "outputs": [
    {
     "name": "stderr",
     "output_type": "stream",
     "text": [
      "                                                                                \r"
     ]
    },
    {
     "name": "stdout",
     "output_type": "stream",
     "text": [
      "+--------+--------+--------+-------+------+--------------------+----+------------+-----+---------+------+----------+--------------------+\n",
      "|username|anime_id|my_score|user_id|gender|               title|type|      source|score|scored_by|  rank|popularity|               genre|\n",
      "+--------+--------+--------+-------+------+--------------------+----+------------+-----+---------+------+----------+--------------------+\n",
      "|karthiga|      21|       9|2255153|Female|           One Piece|  TV|       Manga| 8.54|   423868|  91.0|        35|Action, Adventure...|\n",
      "|karthiga|      59|       7|2255153|Female|             Chobits|  TV|       Manga| 7.53|   175388|1546.0|       188|Sci-Fi, Comedy, D...|\n",
      "|karthiga|      74|       7|2255153|Female|        Gakuen Alice|  TV|       Manga| 7.77|    33244| 941.0|      1291|Comedy, School, S...|\n",
      "|karthiga|     120|       7|2255153|Female|       Fruits Basket|  TV|       Manga| 7.77|   167968| 939.0|       222|Slice of Life, Co...|\n",
      "|karthiga|     178|       7|2255153|Female|        Ultra Maniac|  TV|       Manga| 7.26|     9663|2594.0|      2490|Magic, Comedy, Ro...|\n",
      "|karthiga|     210|       7|2255153|Female|             Ranma ½|  TV|       Manga| 7.85|    59911| 802.0|       623|Slice of Life, Co...|\n",
      "|karthiga|     232|       6|2255153|Female|   Cardcaptor Sakura|  TV|       Manga| 8.21|   121898| 297.0|       292|Adventure, Comedy...|\n",
      "|karthiga|     233|       6|2255153|Female|      Daa! Daa! Daa!|  TV|       Manga| 7.78|     6598| 919.0|      3045|Comedy, Sci-Fi, S...|\n",
      "|karthiga|     249|       8|2255153|Female|            InuYasha|  TV|       Manga|  7.9|   181978| 697.0|       141|Action, Adventure...|\n",
      "|karthiga|     269|      10|2255153|Female|              Bleach|  TV|       Manga|  7.9|   433097| 693.0|        18|Action, Adventure...|\n",
      "|karthiga|     721|       7|2255153|Female|       Princess Tutu|  TV|    Original| 8.21|    36501| 307.0|       916|Comedy, Drama, Ma...|\n",
      "|karthiga|     853|       7|2255153|Female|Ouran Koukou Host...|  TV|       Manga| 8.34|   335137| 205.0|        69|Comedy, Harem, Ro...|\n",
      "|karthiga|     857|      10|2255153|Female|            Air Gear|  TV|       Manga| 7.64|   126326|1233.0|       297|Action, Comedy, E...|\n",
      "|karthiga|     957|       8|2255153|Female|Saiunkoku Monogatari|  TV| Light novel| 8.04|    23467| 512.0|      1313|Adventure, Fantas...|\n",
      "|karthiga|     966|      10|2255153|Female|    Crayon Shin-chan|  TV|       Manga| 7.73|    17683|1032.0|      1937|Slice of Life, Co...|\n",
      "|karthiga|    1557|       8|2255153|Female|    Shounen Onmyouji|  TV| Light novel| 7.68|    14619|1158.0|      1793|Action, Magic, Fa...|\n",
      "|karthiga|    1571|       8|2255153|Female|          Ghost Hunt|  TV|       Novel| 7.92|    69224| 656.0|       527|Comedy, Horror, M...|\n",
      "|karthiga|    1579|       9|2255153|Female|Kiniro no Corda: ...|  TV|Visual novel| 7.63|    36820|1273.0|      1138|Comedy, Drama, Ha...|\n",
      "|karthiga|    1698|       7|2255153|Female|    Nodame Cantabile|  TV|       Manga| 8.41|    87363| 163.0|       381|Music, Slice of L...|\n",
      "|karthiga|    1735|       9|2255153|Female|  Naruto: Shippuuden|  TV|       Manga| 8.18|   385179| 337.0|        20|Action, Adventure...|\n",
      "+--------+--------+--------+-------+------+--------------------+----+------------+-----+---------+------+----------+--------------------+\n",
      "only showing top 20 rows\n",
      "\n"
     ]
    }
   ],
   "source": [
    "# ITEM 1: Ver el comportamiento de la popularidad en función de la distribución.\n",
    "# Archivo necesiario: final_animedataset.csv\n",
    "# Campos necesarios:\n",
    "# \t- title\n",
    "# \t- gender\n",
    "# \t- popularity\n",
    "\n",
    "# Direccionio del archivo\n",
    "# Ej. file = \"../../tests/vshort-final_animedataset.csv\"\n",
    "file = \"../../tests/vshort-final_animedataset.csv\"\n",
    "\n",
    "final_animedataset = spark\\\n",
    "\t.read\\\n",
    "\t.format(\"csv\")\\\n",
    "\t.option(\"header\", \"true\")\\\n",
    "\t.load(file)\n",
    "\n",
    "final_animedataset.show(20)\n",
    "\n",
    "# Se genera la VIEW\n",
    "final_animedataset.createOrReplaceTempView(\"final_animedataset\")"
   ]
  },
  {
   "cell_type": "code",
   "execution_count": 5,
   "metadata": {},
   "outputs": [
    {
     "name": "stderr",
     "output_type": "stream",
     "text": [
      "[Stage 2:>                                                          (0 + 1) / 1]\r"
     ]
    },
    {
     "name": "stdout",
     "output_type": "stream",
     "text": [
      "+--------------------+------------+----------+----------+-----------------+---------------+\n",
      "|               title|female_count|male_count|popularity|female_percentage|male_percentage|\n",
      "+--------------------+------------+----------+----------+-----------------+---------------+\n",
      "|\"\"\"Bungaku Shoujo...|           1|         0|      1556|           100.00|           0.00|\n",
      "|\"Gyakuten Saiban:...|           1|         1|    5839.0|            50.00|          50.00|\n",
      "|\"Naruto Shippuude...|           1|         0|      1771|           100.00|           0.00|\n",
      "|        .hack//Roots|           0|         1|      1391|             0.00|         100.00|\n",
      "|         .hack//Sign|           0|         1|       650|             0.00|         100.00|\n",
      "|.hack//Tasogare n...|           0|         1|      1474|             0.00|         100.00|\n",
      "|              11eyes|           1|         0|       487|           100.00|           0.00|\n",
      "|12-sai.: Chicchan...|           1|         0|      2789|           100.00|           0.00|\n",
      "|     3-gatsu no Lion|           1|         0|       391|           100.00|           0.00|\n",
      "|3-gatsu no Lion 2...|           1|         0|       990|           100.00|           0.00|\n",
      "|              A Kite|           1|         0|      1946|           100.00|           0.00|\n",
      "|ACCA: 13-ku Kansa...|           1|         0|      1064|           100.00|           0.00|\n",
      "|         Accel World|           2|         0|       103|           100.00|           0.00|\n",
      "|        Afro Samurai|           1|         0|       449|           100.00|           0.00|\n",
      "|            Aho Girl|           1|         0|       492|           100.00|           0.00|\n",
      "| Ai no Kusabi (2012)|           1|         0|      2555|           100.00|           0.00|\n",
      "|            Air Gear|           1|         1|       297|            50.00|          50.00|\n",
      "|Akagami no Shiray...|           1|         0|       269|           100.00|           0.00|\n",
      "|      Akame ga Kill!|           1|         0|        25|           100.00|           0.00|\n",
      "|    Akatsuki no Yona|           1|         0|       165|           100.00|           0.00|\n",
      "+--------------------+------------+----------+----------+-----------------+---------------+\n",
      "only showing top 20 rows\n",
      "\n"
     ]
    },
    {
     "name": "stderr",
     "output_type": "stream",
     "text": [
      "                                                                                \r"
     ]
    }
   ],
   "source": [
    "# Calcular la cantidad de usuarios por género, la popularidad y los porcentajes\n",
    "count_female_male_by_title = spark.sql(\"\"\"\n",
    "    SELECT \n",
    "        title,\n",
    "        COUNT(CASE WHEN gender = 'Female' THEN 1 END) AS female_count,\n",
    "        COUNT(CASE WHEN gender = 'Male' THEN 1 END) AS male_count,\n",
    "        FIRST(popularity) AS popularity,\n",
    "        ROUND(COUNT(CASE WHEN gender = 'Female' THEN 1 END) * 100.0 / \n",
    "              (COUNT(CASE WHEN gender = 'Female' THEN 1 END) + COUNT(CASE WHEN gender = 'Male' THEN 1 END)), 2) AS female_percentage,\n",
    "        ROUND(COUNT(CASE WHEN gender = 'Male' THEN 1 END) * 100.0 / \n",
    "              (COUNT(CASE WHEN gender = 'Female' THEN 1 END) + COUNT(CASE WHEN gender = 'Male' THEN 1 END)), 2) AS male_percentage\n",
    "    FROM \n",
    "        final_animedataset\n",
    "    GROUP BY \n",
    "        title\n",
    "\"\"\")\n",
    "\n",
    "# Mostrar los resultados\n",
    "count_female_male_by_title.show(20)"
   ]
  },
  {
   "cell_type": "code",
   "execution_count": 6,
   "metadata": {},
   "outputs": [
    {
     "name": "stdout",
     "output_type": "stream",
     "text": [
      "+------------+------------+----------+-----------------+---------------+\n",
      "|       genre|female_count|male_count|female_percentage|male_percentage|\n",
      "+------------+------------+----------+-----------------+---------------+\n",
      "|      Seinen|          82|        16|            83.67|          16.33|\n",
      "|     Romance|         241|        58|            80.60|          19.40|\n",
      "|    Dementia|          18|         7|            72.00|          28.00|\n",
      "|       Magic|          60|        26|            69.77|          30.23|\n",
      "|    Thriller|          40|        15|            72.73|          27.27|\n",
      "|       Josei|          21|         4|            84.00|          16.00|\n",
      "|   Adventure|         124|        78|            61.39|          38.61|\n",
      "| Super Power|          64|        45|            58.72|          41.28|\n",
      "|Martial Arts|          23|         6|            79.31|          20.69|\n",
      "|      Sports|          29|         7|            80.56|          19.44|\n",
      "|      Shoujo|          74|        11|            87.06|          12.94|\n",
      "|       Drama|         268|        96|            73.63|          26.37|\n",
      "|   Shoujo Ai|           7|         2|            77.78|          22.22|\n",
      "|      School|         176|        40|            81.48|          18.52|\n",
      "|      Hentai|          10|         0|           100.00|           0.00|\n",
      "|    Military|          39|        21|            65.00|          35.00|\n",
      "|     Samurai|          16|         4|            80.00|          20.00|\n",
      "|        Yaoi|          18|         0|           100.00|           0.00|\n",
      "|     Fantasy|         144|        59|            70.94|          29.06|\n",
      "|  Shounen Ai|          30|         0|           100.00|           0.00|\n",
      "+------------+------------+----------+-----------------+---------------+\n",
      "only showing top 20 rows\n",
      "\n"
     ]
    }
   ],
   "source": [
    "# ITEM 2: Ver la tendencia de géneros de anime en función de la distribución.\n",
    "# Archivo necesiario: final_animedataset.csv\n",
    "# Campos necesarios:\n",
    "# \t- gender\n",
    "# \t- genre\n",
    "\n",
    "# Calcular la cantidad de usuarios por género y los porcentajes para cada género\n",
    "count_female_male_by_genres = spark.sql(\"\"\"\n",
    "    SELECT \n",
    "        genre,\n",
    "        COUNT(CASE WHEN gender = 'Female' THEN 1 END) AS female_count,\n",
    "        COUNT(CASE WHEN gender = 'Male' THEN 1 END) AS male_count,\n",
    "        ROUND(COUNT(CASE WHEN gender = 'Female' THEN 1 END) * 100.0 / \n",
    "              (COUNT(CASE WHEN gender = 'Female' THEN 1 END) + COUNT(CASE WHEN gender = 'Male' THEN 1 END)), 2) AS female_percentage,\n",
    "        ROUND(COUNT(CASE WHEN gender = 'Male' THEN 1 END) * 100.0 / \n",
    "              (COUNT(CASE WHEN gender = 'Female' THEN 1 END) + COUNT(CASE WHEN gender = 'Male' THEN 1 END)), 2) AS male_percentage\n",
    "    FROM (\n",
    "        SELECT \n",
    "            gender,\n",
    "            EXPLODE(SPLIT(genre, ', ')) AS genre\n",
    "        FROM \n",
    "            final_animedataset\n",
    "    ) exploded_genres\n",
    "    GROUP BY \n",
    "        genre\n",
    "\"\"\")\n",
    "\n",
    "# Mostrar los resultados\n",
    "count_female_male_by_genres.show(20)"
   ]
  },
  {
   "cell_type": "code",
   "execution_count": 7,
   "metadata": {},
   "outputs": [
    {
     "name": "stdout",
     "output_type": "stream",
     "text": [
      "+------------+------------+----------+-----------------+---------------+\n",
      "|      source|female_count|male_count|female_percentage|male_percentage|\n",
      "+------------+------------+----------+-----------------+---------------+\n",
      "|          TV|           1|         1|            50.00|          50.00|\n",
      "|Visual novel|          36|        11|            76.60|          23.40|\n",
      "|    Original|         136|        81|            62.67|          37.33|\n",
      "|       Novel|          43|        15|            74.14|          25.86|\n",
      "|     Unknown|          23|         0|           100.00|           0.00|\n",
      "|       Other|           7|         2|            77.78|          22.22|\n",
      "|       Manga|         374|       106|            77.92|          22.08|\n",
      "|4-koma manga|          20|         1|            95.24|           4.76|\n",
      "|       Music|           1|         1|            50.00|          50.00|\n",
      "|        Game|           7|         3|            70.00|          30.00|\n",
      "|   Web manga|          11|         1|            91.67|           8.33|\n",
      "| Light novel|          95|        24|            79.83|          20.17|\n",
      "+------------+------------+----------+-----------------+---------------+\n",
      "\n"
     ]
    }
   ],
   "source": [
    "# ITEM 3: Ver si existe relación acerca de las preferencias de la distribución con respecto al origen (source) de los animes que consumen.\n",
    "# Archivo necesiario: final_animedataset.csv\n",
    "# Campos necesarios:\n",
    "# \t- source\n",
    "# \t- gender\n",
    "\n",
    "# Calcular la cantidad de usuarios por género y los porcentajes para cada source\n",
    "count_female_male_by_source = spark.sql(\"\"\"\n",
    "    SELECT \n",
    "        source,\n",
    "        COUNT(CASE WHEN gender = 'Female' THEN 1 END) AS female_count,\n",
    "        COUNT(CASE WHEN gender = 'Male' THEN 1 END) AS male_count,\n",
    "        ROUND(COUNT(CASE WHEN gender = 'Female' THEN 1 END) * 100.0 / \n",
    "              (COUNT(CASE WHEN gender = 'Female' THEN 1 END) + COUNT(CASE WHEN gender = 'Male' THEN 1 END)), 2) AS female_percentage,\n",
    "        ROUND(COUNT(CASE WHEN gender = 'Male' THEN 1 END) * 100.0 / \n",
    "              (COUNT(CASE WHEN gender = 'Female' THEN 1 END) + COUNT(CASE WHEN gender = 'Male' THEN 1 END)), 2) AS male_percentage\n",
    "    FROM \n",
    "        final_animedataset\n",
    "    GROUP BY \n",
    "        source\n",
    "\"\"\")\n",
    "\n",
    "# Mostrar los resultados\n",
    "count_female_male_by_source.show(20)"
   ]
  },
  {
   "cell_type": "code",
   "execution_count": 8,
   "metadata": {},
   "outputs": [],
   "source": [
    "# ITEM 4: Ver si es posible detectar un patrón referente a qué estudio es más propenso a sacar los tipos de animes que están en estas características.\n",
    "# Archivo necesiario: \n",
    "# Campos necesarios:\n",
    "# - \n"
   ]
  },
  {
   "cell_type": "code",
   "execution_count": null,
   "metadata": {},
   "outputs": [],
   "source": []
  },
  {
   "cell_type": "code",
   "execution_count": 9,
   "metadata": {},
   "outputs": [],
   "source": [
    "spark.stop()"
   ]
  }
 ],
 "metadata": {
  "kernelspec": {
   "display_name": "env",
   "language": "python",
   "name": "python3"
  },
  "language_info": {
   "codemirror_mode": {
    "name": "ipython",
    "version": 3
   },
   "file_extension": ".py",
   "mimetype": "text/x-python",
   "name": "python",
   "nbconvert_exporter": "python",
   "pygments_lexer": "ipython3",
   "version": "3.12.3"
  }
 },
 "nbformat": 4,
 "nbformat_minor": 2
}
