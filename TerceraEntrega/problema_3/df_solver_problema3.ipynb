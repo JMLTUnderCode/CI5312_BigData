{
 "cells": [
  {
   "cell_type": "code",
   "execution_count": 2,
   "metadata": {},
   "outputs": [],
   "source": [
    "\"\"\"\n",
    "\tAutores:\n",
    "\t- Astrid Alvarado\n",
    "\t- Junior Lara\n",
    "\"\"\"\n",
    "\n",
    "# Asegurese de seleccionar el Kernel de Python 3, puede depender de su entorno.\n",
    "\n",
    "from pyspark.sql import SparkSession\n",
    "from pyspark.sql.functions import col, round, count, when, first, explode, split"
   ]
  },
  {
   "cell_type": "code",
   "execution_count": 3,
   "metadata": {},
   "outputs": [
    {
     "name": "stderr",
     "output_type": "stream",
     "text": [
      "your 131072x1 screen size is bogus. expect trouble\n",
      "Setting default log level to \"WARN\".\n",
      "To adjust logging level use sc.setLogLevel(newLevel). For SparkR, use setLogLevel(newLevel).\n",
      "25/04/01 15:05:05 WARN NativeCodeLoader: Unable to load native-hadoop library for your platform... using builtin-java classes where applicable\n"
     ]
    }
   ],
   "source": [
    "spark = SparkSession\\\n",
    "    .builder\\\n",
    "    .appName(\"Solver problema 3 - DF\")\\\n",
    "    .getOrCreate()"
   ]
  },
  {
   "cell_type": "code",
   "execution_count": 4,
   "metadata": {},
   "outputs": [
    {
     "name": "stderr",
     "output_type": "stream",
     "text": [
      "                                                                                \r"
     ]
    },
    {
     "name": "stdout",
     "output_type": "stream",
     "text": [
      "+--------+--------+--------+-------+------+--------------------+----+------------+-----+---------+------+----------+--------------------+\n",
      "|username|anime_id|my_score|user_id|gender|               title|type|      source|score|scored_by|  rank|popularity|               genre|\n",
      "+--------+--------+--------+-------+------+--------------------+----+------------+-----+---------+------+----------+--------------------+\n",
      "|karthiga|      21|       9|2255153|Female|           One Piece|  TV|       Manga| 8.54|   423868|  91.0|        35|Action, Adventure...|\n",
      "|karthiga|      59|       7|2255153|Female|             Chobits|  TV|       Manga| 7.53|   175388|1546.0|       188|Sci-Fi, Comedy, D...|\n",
      "|karthiga|      74|       7|2255153|Female|        Gakuen Alice|  TV|       Manga| 7.77|    33244| 941.0|      1291|Comedy, School, S...|\n",
      "|karthiga|     120|       7|2255153|Female|       Fruits Basket|  TV|       Manga| 7.77|   167968| 939.0|       222|Slice of Life, Co...|\n",
      "|karthiga|     178|       7|2255153|Female|        Ultra Maniac|  TV|       Manga| 7.26|     9663|2594.0|      2490|Magic, Comedy, Ro...|\n",
      "|karthiga|     210|       7|2255153|Female|             Ranma ½|  TV|       Manga| 7.85|    59911| 802.0|       623|Slice of Life, Co...|\n",
      "|karthiga|     232|       6|2255153|Female|   Cardcaptor Sakura|  TV|       Manga| 8.21|   121898| 297.0|       292|Adventure, Comedy...|\n",
      "|karthiga|     233|       6|2255153|Female|      Daa! Daa! Daa!|  TV|       Manga| 7.78|     6598| 919.0|      3045|Comedy, Sci-Fi, S...|\n",
      "|karthiga|     249|       8|2255153|Female|            InuYasha|  TV|       Manga|  7.9|   181978| 697.0|       141|Action, Adventure...|\n",
      "|karthiga|     269|      10|2255153|Female|              Bleach|  TV|       Manga|  7.9|   433097| 693.0|        18|Action, Adventure...|\n",
      "|karthiga|     721|       7|2255153|Female|       Princess Tutu|  TV|    Original| 8.21|    36501| 307.0|       916|Comedy, Drama, Ma...|\n",
      "|karthiga|     853|       7|2255153|Female|Ouran Koukou Host...|  TV|       Manga| 8.34|   335137| 205.0|        69|Comedy, Harem, Ro...|\n",
      "|karthiga|     857|      10|2255153|Female|            Air Gear|  TV|       Manga| 7.64|   126326|1233.0|       297|Action, Comedy, E...|\n",
      "|karthiga|     957|       8|2255153|Female|Saiunkoku Monogatari|  TV| Light novel| 8.04|    23467| 512.0|      1313|Adventure, Fantas...|\n",
      "|karthiga|     966|      10|2255153|Female|    Crayon Shin-chan|  TV|       Manga| 7.73|    17683|1032.0|      1937|Slice of Life, Co...|\n",
      "|karthiga|    1557|       8|2255153|Female|    Shounen Onmyouji|  TV| Light novel| 7.68|    14619|1158.0|      1793|Action, Magic, Fa...|\n",
      "|karthiga|    1571|       8|2255153|Female|          Ghost Hunt|  TV|       Novel| 7.92|    69224| 656.0|       527|Comedy, Horror, M...|\n",
      "|karthiga|    1579|       9|2255153|Female|Kiniro no Corda: ...|  TV|Visual novel| 7.63|    36820|1273.0|      1138|Comedy, Drama, Ha...|\n",
      "|karthiga|    1698|       7|2255153|Female|    Nodame Cantabile|  TV|       Manga| 8.41|    87363| 163.0|       381|Music, Slice of L...|\n",
      "|karthiga|    1735|       9|2255153|Female|  Naruto: Shippuuden|  TV|       Manga| 8.18|   385179| 337.0|        20|Action, Adventure...|\n",
      "+--------+--------+--------+-------+------+--------------------+----+------------+-----+---------+------+----------+--------------------+\n",
      "only showing top 20 rows\n",
      "\n"
     ]
    }
   ],
   "source": [
    "# ITEM 1: Ver el comportamiento de la popularidad en función de la distribución.\n",
    "# Archivo necesiario: final_animedataset.csv\n",
    "# Campos necesarios:\n",
    "# \t- title\n",
    "# \t- gender\n",
    "# \t- popularity\n",
    "\n",
    "# Direccionio del archivo\n",
    "# Ej. file = \"../../tests/vshort-final_animedataset.csv\"\n",
    "file = \"../../official/final_animedataset.csv\"\n",
    "\n",
    "final_animedataset = spark\\\n",
    "\t.read\\\n",
    "\t.format(\"csv\")\\\n",
    "\t.option(\"header\", \"true\")\\\n",
    "\t.load(file)\n",
    "\n",
    "final_animedataset.show(20)"
   ]
  },
  {
   "cell_type": "code",
   "execution_count": 5,
   "metadata": {},
   "outputs": [
    {
     "name": "stderr",
     "output_type": "stream",
     "text": [
      "[Stage 4:>                                                          (0 + 1) / 1]\r"
     ]
    },
    {
     "name": "stdout",
     "output_type": "stream",
     "text": [
      "+--------------------+------------+----------+----------+-----------------+---------------+\n",
      "|               title|female_count|male_count|popularity|female_percentage|male_percentage|\n",
      "+--------------------+------------+----------+----------+-----------------+---------------+\n",
      "|             \"\"\"0\"\"\"|         182|       308|      6833|            37.14|          62.86|\n",
      "|\"\"\"Bungaku Shoujo...|        1418|      2363|      2978|             37.5|           62.5|\n",
      "|\"\"\"Bungaku Shoujo...|        1621|      2799|      2581|            36.67|          63.33|\n",
      "|\"Boku no Imouto w...|         683|      2123|      3073|            24.34|          75.66|\n",
      "|\"Boku no Imouto w...|         119|       425|      6115|            21.88|          78.13|\n",
      "|\"Gyakuten Saiban:...|        2172|      5519|    5839.0|            28.24|          71.76|\n",
      "|\"Ikoku Meiro no C...|         549|      1002|      4334|             35.4|           64.6|\n",
      "|\"Mogyutto \"\"Love\"...|         642|      1233|      3848|            34.24|          65.76|\n",
      "|\"The iDOLM@STER M...|          65|       150|      7880|            30.23|          69.77|\n",
      "|\"Trickster: Edoga...|        2079|      4116|      1092|            33.56|          66.44|\n",
      "|.hack//G.U. Returner|         900|      2279|      2878|            28.31|          71.69|\n",
      "|.hack//G.U. Trilo...|         527|      1276|      3893|            29.23|          70.77|\n",
      "|         .hack//Gift|         966|      2344|      2894|            29.18|          70.82|\n",
      "|      .hack//Quantum|         977|      3197|      2084|            23.41|          76.59|\n",
      "|         .hack//Sign|        4844|     12669|       650|            27.66|          72.34|\n",
      "|.hack//Versus: Th...|         216|       588|      4774|            26.87|          73.13|\n",
      "|          009-1: R&B|         160|       587|      5616|            21.42|          78.58|\n",
      "|        1+2=Paradise|         164|       746|      4906|            18.02|          81.98|\n",
      "|100% Pascal-sense...|          50|       132|      7567|            27.47|          72.53|\n",
      "|              11eyes|        5286|     14175|       487|            27.16|          72.84|\n",
      "+--------------------+------------+----------+----------+-----------------+---------------+\n",
      "only showing top 20 rows\n",
      "\n"
     ]
    },
    {
     "name": "stderr",
     "output_type": "stream",
     "text": [
      "                                                                                \r"
     ]
    }
   ],
   "source": [
    "# Calcular la cantidad de usuarios por género y la popularidad para cada título\n",
    "count_female_male_by_title = final_animedataset.groupBy(\"title\") \\\n",
    "           .agg(\n",
    "               count(when(col(\"gender\") == \"Female\", 1)).alias(\"female_count\"),  # Contar las females\n",
    "               count(when(col(\"gender\") == \"Male\", 1)).alias(\"male_count\"),      # Contar los males\n",
    "               first(\"popularity\").alias(\"popularity\")                          # Tomar la popularidad única\n",
    "           )\n",
    "\n",
    "# Agregar las columnas de porcentaje para hombres y mujeres\n",
    "count_female_male_by_title_with_percen = count_female_male_by_title.withColumn(\n",
    "    \"female_percentage\", round((col(\"female_count\") / (col(\"female_count\") + col(\"male_count\")) * 100), 2)\n",
    ").withColumn(\n",
    "    \"male_percentage\", round((col(\"male_count\") / (col(\"female_count\") + col(\"male_count\")) * 100), 2)\n",
    ")\n",
    "\n",
    "# Mostrar los resultados\n",
    "count_female_male_by_title_with_percen.show(20)"
   ]
  },
  {
   "cell_type": "code",
   "execution_count": 6,
   "metadata": {},
   "outputs": [
    {
     "name": "stderr",
     "output_type": "stream",
     "text": [
      "                                                                                \r"
     ]
    }
   ],
   "source": [
    "# Exportar los resultados a un archivo CSV \"count_female_male_by_title_with_percen\"\n",
    "count_female_male_by_title_with_percen.write.csv(\"count_female_male_by_title_with_percen\", header=True, mode=\"overwrite\")"
   ]
  },
  {
   "cell_type": "code",
   "execution_count": 7,
   "metadata": {},
   "outputs": [
    {
     "name": "stderr",
     "output_type": "stream",
     "text": [
      "[Stage 8:=======================================================> (33 + 1) / 34]\r"
     ]
    },
    {
     "name": "stdout",
     "output_type": "stream",
     "text": [
      "+------------+------------+----------+-----------------+---------------+\n",
      "|       genre|female_count|male_count|female_percentage|male_percentage|\n",
      "+------------+------------+----------+-----------------+---------------+\n",
      "|      Seinen|      755783|   2401731|            23.94|          76.06|\n",
      "|     Romance|     3058903|   7422955|            29.18|          70.82|\n",
      "|    Dementia|      123962|    290713|            29.89|          70.11|\n",
      "|       Magic|     1044607|   2571788|            28.89|          71.11|\n",
      "|    Thriller|      351992|    903155|            28.04|          71.96|\n",
      "|       Josei|      223277|    253220|            46.86|          53.14|\n",
      "|   Adventure|     1970463|   5195149|             27.5|           72.5|\n",
      "| Super Power|      810990|   2386774|            25.36|          74.64|\n",
      "|Martial Arts|      242263|    845883|            22.26|          77.74|\n",
      "|      Sports|      355357|    847317|            29.55|          70.45|\n",
      "|      Shoujo|     1115893|    965196|            53.62|          46.38|\n",
      "|       Drama|     3102596|   6713252|            31.61|          68.39|\n",
      "|   Shoujo Ai|      109238|    259122|            29.66|          70.34|\n",
      "|      School|     2163059|   6205281|            25.85|          74.15|\n",
      "|      Hentai|      104776|    553206|            15.92|          84.08|\n",
      "|    Military|      482712|   1623363|            22.92|          77.08|\n",
      "|     Samurai|      169147|    434005|            28.04|          71.96|\n",
      "|        6455|          47|       320|            12.81|          87.19|\n",
      "|        Yaoi|       86665|     18342|            82.53|          17.47|\n",
      "|     Fantasy|     2477082|   6232419|            28.44|          71.56|\n",
      "+------------+------------+----------+-----------------+---------------+\n",
      "only showing top 20 rows\n",
      "\n"
     ]
    },
    {
     "name": "stderr",
     "output_type": "stream",
     "text": [
      "                                                                                \r"
     ]
    }
   ],
   "source": [
    "# ITEM 2: Ver la tendencia de géneros de anime en función de la distribución.\n",
    "# Archivo necesiario: final_animedataset.csv\n",
    "# Campos necesarios:\n",
    "# \t- gender\n",
    "# \t- genre\n",
    "\n",
    "# Separar los géneros en la columna \"genre\" y explotar la lista en filas individuales\n",
    "exploded_genres = final_animedataset.withColumn(\"genre\", explode(split(col(\"genre\"), \", \")))\n",
    "\n",
    "# Contar la cantidad de usuarios por género (Female y Male) para cada género de anime\n",
    "count_female_male_by_genres = exploded_genres.groupBy(\"genre\") \\\n",
    "           .agg(\n",
    "               count(when(col(\"gender\") == \"Female\", 1)).alias(\"female_count\"),  # Contar las females\n",
    "               count(when(col(\"gender\") == \"Male\", 1)).alias(\"male_count\")       # Contar los males\n",
    "           )\n",
    "\n",
    "# Agregar las columnas de porcentaje para hombres y mujeres con redondeo a 2 decimales\n",
    "count_female_male_by_genres_with_percen = count_female_male_by_genres.withColumn(\n",
    "    \"female_percentage\", round((col(\"female_count\") / (col(\"female_count\") + col(\"male_count\")) * 100), 2)\n",
    ").withColumn(\n",
    "    \"male_percentage\", round((col(\"male_count\") / (col(\"female_count\") + col(\"male_count\")) * 100), 2)\n",
    ")\n",
    "\n",
    "# Mostrar los resultados\n",
    "count_female_male_by_genres_with_percen.show(20)"
   ]
  },
  {
   "cell_type": "code",
   "execution_count": 8,
   "metadata": {},
   "outputs": [
    {
     "name": "stderr",
     "output_type": "stream",
     "text": [
      "                                                                                \r"
     ]
    }
   ],
   "source": [
    "# Exportar los resultados a un archivo CSV \"count_female_male_by_genres_with_percen\"\n",
    "count_female_male_by_genres_with_percen.write.csv(\"count_female_male_by_genres_with_percen\", header=True, mode=\"overwrite\")"
   ]
  },
  {
   "cell_type": "code",
   "execution_count": 9,
   "metadata": {},
   "outputs": [
    {
     "name": "stderr",
     "output_type": "stream",
     "text": [
      "[Stage 14:======================================================> (33 + 1) / 34]\r"
     ]
    },
    {
     "name": "stdout",
     "output_type": "stream",
     "text": [
      "+-------------+------------+----------+-----------------+---------------+\n",
      "|       source|female_count|male_count|female_percentage|male_percentage|\n",
      "+-------------+------------+----------+-----------------+---------------+\n",
      "|           TV|        2172|      5519|            28.24|          71.76|\n",
      "| Visual novel|      646657|   1800061|            26.43|          73.57|\n",
      "|Digital manga|        6128|     11239|            35.29|          64.71|\n",
      "|     Original|     1778273|   4574674|            27.99|          72.01|\n",
      "|        Novel|      410685|    899754|            31.34|          68.66|\n",
      "| Picture book|        5270|      7110|            42.57|          57.43|\n",
      "|         Book|       28696|     39683|            41.97|          58.03|\n",
      "|      Unknown|      381452|   1011208|            27.39|          72.61|\n",
      "|        Other|      115514|    294737|            28.16|          71.84|\n",
      "|        Radio|         902|      1939|            31.75|          68.25|\n",
      "|        Manga|     4365668|  10194460|            29.98|          70.02|\n",
      "| 4-koma manga|      249691|    750484|            24.96|          75.04|\n",
      "|          OVA|          47|       320|            12.81|          87.19|\n",
      "|        Music|       33511|     62267|            34.99|          65.01|\n",
      "|         Game|      336981|    924602|            26.71|          73.29|\n",
      "|    Web manga|      150510|    354224|            29.82|          70.18|\n",
      "|    Card game|       21874|     66138|            24.85|          75.15|\n",
      "|  Light novel|     1144877|   4387934|            20.69|          79.31|\n",
      "+-------------+------------+----------+-----------------+---------------+\n",
      "\n"
     ]
    },
    {
     "name": "stderr",
     "output_type": "stream",
     "text": [
      "                                                                                \r"
     ]
    }
   ],
   "source": [
    "# ITEM 3: Ver si existe relación acerca de las preferencias de la distribución con respecto al origen (source) de los animes que consumen.\n",
    "# Archivo necesiario: final_animedataset.csv\n",
    "# Campos necesarios:\n",
    "# \t- source\n",
    "# \t- gender\n",
    "\n",
    "# Calcular la cantidad de hombres y mujeres por origen (source) de los animes\n",
    "count_female_male_by_source = final_animedataset.groupBy(\"source\") \\\n",
    "           .agg(\n",
    "               count(when(col(\"gender\") == \"Female\", 1)).alias(\"female_count\"),  # Contar las females\n",
    "               count(when(col(\"gender\") == \"Male\", 1)).alias(\"male_count\")      # Contar los males\n",
    "           )\n",
    "\n",
    "# Agregar las columnas de porcentaje para hombres y mujeres con redondeo a 2 decimales\n",
    "count_female_male_by_source_with_percen = count_female_male_by_source.withColumn(\\\n",
    "\t\"female_percentage\", round((col(\"female_count\") / (col(\"female_count\") + col(\"male_count\")) * 100), 2)\n",
    ").withColumn(\n",
    "    \"male_percentage\", round((col(\"male_count\") / (col(\"female_count\") + col(\"male_count\")) * 100), 2)\n",
    ")\n",
    "\n",
    "# Mostrar los resultados\n",
    "count_female_male_by_source_with_percen.show(20)\n"
   ]
  },
  {
   "cell_type": "code",
   "execution_count": 10,
   "metadata": {},
   "outputs": [
    {
     "name": "stderr",
     "output_type": "stream",
     "text": [
      "                                                                                \r"
     ]
    }
   ],
   "source": [
    "# Exportar los resultados a un archivo CSV \"count_female_male_by_source_with_percen\"\n",
    "count_female_male_by_source_with_percen.write.csv(\"count_female_male_by_source_with_percen\", header=True, mode=\"overwrite\")"
   ]
  },
  {
   "cell_type": "code",
   "execution_count": 8,
   "metadata": {},
   "outputs": [],
   "source": [
    "# ITEM 4: Ver si es posible detectar un patrón referente a qué estudio es más propenso a sacar los tipos de animes que están en estas características.\n",
    "# Archivo necesiario: \n",
    "# Campos necesarios:\n",
    "# - \n",
    "\n"
   ]
  },
  {
   "cell_type": "code",
   "execution_count": null,
   "metadata": {},
   "outputs": [],
   "source": []
  },
  {
   "cell_type": "code",
   "execution_count": 11,
   "metadata": {},
   "outputs": [],
   "source": [
    "spark.stop()"
   ]
  }
 ],
 "metadata": {
  "kernelspec": {
   "display_name": "env",
   "language": "python",
   "name": "python3"
  },
  "language_info": {
   "codemirror_mode": {
    "name": "ipython",
    "version": 3
   },
   "file_extension": ".py",
   "mimetype": "text/x-python",
   "name": "python",
   "nbconvert_exporter": "python",
   "pygments_lexer": "ipython3",
   "version": "3.10.12"
  }
 },
 "nbformat": 4,
 "nbformat_minor": 2
}
