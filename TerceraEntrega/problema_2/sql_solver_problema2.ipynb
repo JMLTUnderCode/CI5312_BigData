{
    "cells": [
        {
            "cell_type": "code",
            "execution_count": 11,
            "metadata": {},
            "outputs": [
                {
                    "name": "stderr",
                    "output_type": "stream",
                    "text": [
                        "25/04/03 02:26:37 WARN Utils: Service 'SparkUI' could not bind on port 4040. Attempting port 4041.\n"
                    ]
                },
                {
                    "name": "stdout",
                    "output_type": "stream",
                    "text": [
                        "Sesión de Spark iniciada\n"
                    ]
                }
            ],
            "source": [
                "from pyspark.sql import SparkSession\n",
                "\n",
                "# Crear la sesión de Spark\n",
                "spark = SparkSession.builder \\\n",
                "    .appName(\"AnimeQualityAnalysis\") \\\n",
                "    .getOrCreate()\n",
                "\n",
                "print(\"Sesión de Spark iniciada\")"
            ]
        },
        {
            "cell_type": "code",
            "execution_count": 12,
            "metadata": {},
            "outputs": [
                {
                    "name": "stdout",
                    "output_type": "stream",
                    "text": [
                        "+--------+--------+--------+-------+------+-------------+----+------+-----+---------+------+----------+---------------------------------------------------------------+\n",
                        "|username|anime_id|my_score|user_id|gender|title        |type|source|score|scored_by|rank  |popularity|genre                                                          |\n",
                        "+--------+--------+--------+-------+------+-------------+----+------+-----+---------+------+----------+---------------------------------------------------------------+\n",
                        "|karthiga|21      |9       |2255153|Female|One Piece    |TV  |Manga |8.54 |423868   |91.0  |35        |Action, Adventure, Comedy, Super Power, Drama, Fantasy, Shounen|\n",
                        "|karthiga|59      |7       |2255153|Female|Chobits      |TV  |Manga |7.53 |175388   |1546.0|188       |Sci-Fi, Comedy, Drama, Romance, Ecchi, Seinen                  |\n",
                        "|karthiga|74      |7       |2255153|Female|Gakuen Alice |TV  |Manga |7.77 |33244    |941.0 |1291      |Comedy, School, Shoujo, Super Power                            |\n",
                        "|karthiga|120     |7       |2255153|Female|Fruits Basket|TV  |Manga |7.77 |167968   |939.0 |222       |Slice of Life, Comedy, Drama, Romance, Fantasy, Shoujo         |\n",
                        "|karthiga|178     |7       |2255153|Female|Ultra Maniac |TV  |Manga |7.26 |9663     |2594.0|2490      |Magic, Comedy, Romance, School, Shoujo                         |\n",
                        "+--------+--------+--------+-------+------+-------------+----+------+-----+---------+------+----------+---------------------------------------------------------------+\n",
                        "only showing top 5 rows\n",
                        "\n"
                    ]
                }
            ],
            "source": [
                "# Ruta al archivo CSV (modifica la ruta según corresponda)\n",
                "input_path = \"../../tests/final_animedataset.csv\"\n",
                "\n",
                "# Cargar el CSV en un DataFrame\n",
                "df = spark.read.format(\"csv\") \\\n",
                "    .option(\"header\", \"true\") \\\n",
                "    .option(\"quote\", \"\\\"\") \\\n",
                "    .option(\"escape\", \"\\\"\") \\\n",
                "    .load(input_path)\n",
                "\n",
                "# Crear una vista temporal para poder utilizar Spark SQL\n",
                "df.createOrReplaceTempView(\"anime\")\n",
                "\n",
                "# Mostrar algunas filas para verificar la carga\n",
                "df.show(5, truncate=False)"
            ]
        },
        {
            "cell_type": "code",
            "execution_count": 13,
            "metadata": {},
            "outputs": [
                {
                    "name": "stderr",
                    "output_type": "stream",
                    "text": [
                        "[Stage 2:======================================================>  (25 + 1) / 26]\r"
                    ]
                },
                {
                    "name": "stdout",
                    "output_type": "stream",
                    "text": [
                        "+-------------+------------------+\n",
                        "|source       |avg_score         |\n",
                        "+-------------+------------------+\n",
                        "|4-koma manga |7.463999112496897 |\n",
                        "|Book         |7.339872149042031 |\n",
                        "|Card game    |6.874629466895309 |\n",
                        "|Digital manga|6.286162937030009 |\n",
                        "|Game         |7.0350680953706926|\n",
                        "|Light novel  |7.5476944013984655|\n",
                        "|Manga        |7.644926472263997 |\n",
                        "|Music        |7.3084495014743185|\n",
                        "|Novel        |7.798500644457453 |\n",
                        "|Original     |7.524421412116416 |\n",
                        "|Other        |6.990557157227344 |\n",
                        "|Picture book |6.947453134982346 |\n",
                        "|Radio        |6.307572355795087 |\n",
                        "|Unknown      |6.7880745587859685|\n",
                        "|Visual novel |7.197369146645407 |\n",
                        "|Web manga    |7.693994017141883 |\n",
                        "+-------------+------------------+\n",
                        "\n"
                    ]
                },
                {
                    "name": "stderr",
                    "output_type": "stream",
                    "text": [
                        "                                                                                \r"
                    ]
                }
            ],
            "source": [
                "# Consulta SQL: Filtra filas donde 'source' y 'score' no sean nulos,\n",
                "# convierte 'score' a tipo float, agrupa por 'source' y calcula el promedio,\n",
                "# ordenando el resultado en forma descendente.\n",
                "query = \"\"\"\n",
                "SELECT source, AVG(CAST(score AS FLOAT)) AS avg_score\n",
                "FROM anime\n",
                "WHERE source IS NOT NULL AND score IS NOT NULL\n",
                "GROUP BY source\n",
                "ORDER BY source ASC\n",
                "\"\"\"\n",
                "\n",
                "# Ejecutar la consulta SQL\n",
                "result = spark.sql(query)\n",
                "\n",
                "# Mostrar el resultado\n",
                "result.show(truncate=False)"
            ]
        },
        {
            "cell_type": "code",
            "execution_count": 14,
            "metadata": {},
            "outputs": [
                {
                    "name": "stderr",
                    "output_type": "stream",
                    "text": [
                        "                                                                                \r"
                    ]
                }
            ],
            "source": [
                "# Escribir el DataFrame en un archivo CSV con el nombre \"result_by_sql\"\n",
                "result.write.csv(\"result_by_sql\", header=True, mode=\"overwrite\")"
            ]
        },
        {
            "cell_type": "code",
            "execution_count": 15,
            "metadata": {},
            "outputs": [],
            "source": [
                "spark.stop()"
            ]
        }
    ],
    "metadata": {
        "kernelspec": {
            "display_name": "env",
            "language": "python",
            "name": "python3"
        },
        "language_info": {
            "codemirror_mode": {
                "name": "ipython",
                "version": 3
            },
            "file_extension": ".py",
            "mimetype": "text/x-python",
            "name": "python",
            "nbconvert_exporter": "python",
            "pygments_lexer": "ipython3",
            "version": "3.12.3"
        }
    },
    "nbformat": 4,
    "nbformat_minor": 4
}
