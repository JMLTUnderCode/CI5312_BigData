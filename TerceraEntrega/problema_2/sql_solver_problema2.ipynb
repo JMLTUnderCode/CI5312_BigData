{
    "cells": [
        {
            "cell_type": "code",
            "execution_count": 14,
            "metadata": {},
            "outputs": [
                {
                    "name": "stdout",
                    "output_type": "stream",
                    "text": [
                        "Sesión de Spark iniciada\n"
                    ]
                },
                {
                    "name": "stderr",
                    "output_type": "stream",
                    "text": [
                        "25/04/03 02:00:28 WARN Utils: Service 'SparkUI' could not bind on port 4040. Attempting port 4041.\n"
                    ]
                }
            ],
            "source": [
                "from pyspark.sql import SparkSession\n",
                "\n",
                "# Crear la sesión de Spark\n",
                "spark = SparkSession.builder \\\n",
                "    .appName(\"AnimeQualityAnalysis\") \\\n",
                "    .getOrCreate()\n",
                "\n",
                "print(\"Sesión de Spark iniciada\")"
            ]
        },
        {
            "cell_type": "code",
            "execution_count": 15,
            "metadata": {},
            "outputs": [
                {
                    "name": "stdout",
                    "output_type": "stream",
                    "text": [
                        "+--------+--------+--------+-------+------+-------------+----+------+-----+---------+------+----------+---------------------------------------------------------------+\n",
                        "|username|anime_id|my_score|user_id|gender|title        |type|source|score|scored_by|rank  |popularity|genre                                                          |\n",
                        "+--------+--------+--------+-------+------+-------------+----+------+-----+---------+------+----------+---------------------------------------------------------------+\n",
                        "|karthiga|21      |9       |2255153|Female|One Piece    |TV  |Manga |8.54 |423868   |91.0  |35        |Action, Adventure, Comedy, Super Power, Drama, Fantasy, Shounen|\n",
                        "|karthiga|59      |7       |2255153|Female|Chobits      |TV  |Manga |7.53 |175388   |1546.0|188       |Sci-Fi, Comedy, Drama, Romance, Ecchi, Seinen                  |\n",
                        "|karthiga|74      |7       |2255153|Female|Gakuen Alice |TV  |Manga |7.77 |33244    |941.0 |1291      |Comedy, School, Shoujo, Super Power                            |\n",
                        "|karthiga|120     |7       |2255153|Female|Fruits Basket|TV  |Manga |7.77 |167968   |939.0 |222       |Slice of Life, Comedy, Drama, Romance, Fantasy, Shoujo         |\n",
                        "|karthiga|178     |7       |2255153|Female|Ultra Maniac |TV  |Manga |7.26 |9663     |2594.0|2490      |Magic, Comedy, Romance, School, Shoujo                         |\n",
                        "+--------+--------+--------+-------+------+-------------+----+------+-----+---------+------+----------+---------------------------------------------------------------+\n",
                        "only showing top 5 rows\n",
                        "\n"
                    ]
                }
            ],
            "source": [
                "# Ruta al archivo CSV (modifica la ruta según corresponda)\n",
                "input_path = \"../../tests/vshort-final_animedataset.csv\"\n",
                "\n",
                "# Cargar el CSV en un DataFrame\n",
                "df = spark.read.format(\"csv\") \\\n",
                "    .option(\"header\", \"true\") \\\n",
                "    .option(\"quote\", \"\\\"\") \\\n",
                "    .option(\"escape\", \"\\\"\") \\\n",
                "    .load(input_path)\n",
                "\n",
                "# Crear una vista temporal para poder utilizar Spark SQL\n",
                "df.createOrReplaceTempView(\"anime\")\n",
                "\n",
                "# Mostrar algunas filas para verificar la carga\n",
                "df.show(5, truncate=False)"
            ]
        },
        {
            "cell_type": "code",
            "execution_count": 16,
            "metadata": {},
            "outputs": [
                {
                    "name": "stdout",
                    "output_type": "stream",
                    "text": [
                        "+------------+------------------+\n",
                        "|source      |avg_score         |\n",
                        "+------------+------------------+\n",
                        "|4-koma manga|7.370952333722796 |\n",
                        "|Game        |7.240833401679993 |\n",
                        "|Light novel |7.7221848383671094|\n",
                        "|Manga       |7.773083333174387 |\n",
                        "|Music       |7.190000057220459 |\n",
                        "|Novel       |7.701379290942488 |\n",
                        "|Original    |7.6814285599141625|\n",
                        "|Other       |7.588888857099745 |\n",
                        "|Unknown     |6.778695707735808 |\n",
                        "|Visual novel|7.223617066728308 |\n",
                        "|Web manga   |8.149166584014893 |\n",
                        "+------------+------------------+\n",
                        "\n"
                    ]
                }
            ],
            "source": [
                "# Consulta SQL: Filtra filas donde 'source' y 'score' no sean nulos,\n",
                "# convierte 'score' a tipo float, agrupa por 'source' y calcula el promedio,\n",
                "# ordenando el resultado en forma descendente.\n",
                "query = \"\"\"\n",
                "SELECT source, AVG(CAST(score AS FLOAT)) AS avg_score\n",
                "FROM anime\n",
                "WHERE source IS NOT NULL AND score IS NOT NULL\n",
                "GROUP BY source\n",
                "ORDER BY source ASC\n",
                "\"\"\"\n",
                "\n",
                "# Ejecutar la consulta SQL\n",
                "result = spark.sql(query)\n",
                "\n",
                "# Mostrar el resultado\n",
                "result.show(truncate=False)"
            ]
        },
        {
            "cell_type": "code",
            "execution_count": 17,
            "metadata": {},
            "outputs": [],
            "source": [
                "spark.stop()"
            ]
        }
    ],
    "metadata": {
        "kernelspec": {
            "display_name": "env",
            "language": "python",
            "name": "python3"
        },
        "language_info": {
            "codemirror_mode": {
                "name": "ipython",
                "version": 3
            },
            "file_extension": ".py",
            "mimetype": "text/x-python",
            "name": "python",
            "nbconvert_exporter": "python",
            "pygments_lexer": "ipython3",
            "version": "3.12.3"
        }
    },
    "nbformat": 4,
    "nbformat_minor": 4
}
