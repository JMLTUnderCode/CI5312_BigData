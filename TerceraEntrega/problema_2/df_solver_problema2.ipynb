{
 "cells": [
  {
   "cell_type": "code",
   "execution_count": 14,
   "metadata": {},
   "outputs": [
    {
     "name": "stdout",
     "output_type": "stream",
     "text": [
      "Sesión de Spark iniciada\n"
     ]
    }
   ],
   "source": [
    "from pyspark.sql import SparkSession\n",
    "from pyspark.sql.functions import col, avg\n",
    "\n",
    "# Crear la sesión de Spark\n",
    "spark = SparkSession.builder \\\n",
    "    .appName(\"AnimeQualityAnalysis\") \\\n",
    "    .getOrCreate()\n",
    "\n",
    "print(\"Sesión de Spark iniciada\")"
   ]
  },
  {
   "cell_type": "code",
   "execution_count": 17,
   "metadata": {},
   "outputs": [
    {
     "name": "stdout",
     "output_type": "stream",
     "text": [
      "+--------+--------+--------+-------+------+--------------------+----+------------+-----+---------+------+----------+--------------------+\n",
      "|username|anime_id|my_score|user_id|gender|               title|type|      source|score|scored_by|  rank|popularity|               genre|\n",
      "+--------+--------+--------+-------+------+--------------------+----+------------+-----+---------+------+----------+--------------------+\n",
      "|karthiga|      21|       9|2255153|Female|           One Piece|  TV|       Manga| 8.54|   423868|  91.0|        35|Action, Adventure...|\n",
      "|karthiga|      59|       7|2255153|Female|             Chobits|  TV|       Manga| 7.53|   175388|1546.0|       188|Sci-Fi, Comedy, D...|\n",
      "|karthiga|      74|       7|2255153|Female|        Gakuen Alice|  TV|       Manga| 7.77|    33244| 941.0|      1291|Comedy, School, S...|\n",
      "|karthiga|     120|       7|2255153|Female|       Fruits Basket|  TV|       Manga| 7.77|   167968| 939.0|       222|Slice of Life, Co...|\n",
      "|karthiga|     178|       7|2255153|Female|        Ultra Maniac|  TV|       Manga| 7.26|     9663|2594.0|      2490|Magic, Comedy, Ro...|\n",
      "|karthiga|     210|       7|2255153|Female|             Ranma ½|  TV|       Manga| 7.85|    59911| 802.0|       623|Slice of Life, Co...|\n",
      "|karthiga|     232|       6|2255153|Female|   Cardcaptor Sakura|  TV|       Manga| 8.21|   121898| 297.0|       292|Adventure, Comedy...|\n",
      "|karthiga|     233|       6|2255153|Female|      Daa! Daa! Daa!|  TV|       Manga| 7.78|     6598| 919.0|      3045|Comedy, Sci-Fi, S...|\n",
      "|karthiga|     249|       8|2255153|Female|            InuYasha|  TV|       Manga|  7.9|   181978| 697.0|       141|Action, Adventure...|\n",
      "|karthiga|     269|      10|2255153|Female|              Bleach|  TV|       Manga|  7.9|   433097| 693.0|        18|Action, Adventure...|\n",
      "|karthiga|     721|       7|2255153|Female|       Princess Tutu|  TV|    Original| 8.21|    36501| 307.0|       916|Comedy, Drama, Ma...|\n",
      "|karthiga|     853|       7|2255153|Female|Ouran Koukou Host...|  TV|       Manga| 8.34|   335137| 205.0|        69|Comedy, Harem, Ro...|\n",
      "|karthiga|     857|      10|2255153|Female|            Air Gear|  TV|       Manga| 7.64|   126326|1233.0|       297|Action, Comedy, E...|\n",
      "|karthiga|     957|       8|2255153|Female|Saiunkoku Monogatari|  TV| Light novel| 8.04|    23467| 512.0|      1313|Adventure, Fantas...|\n",
      "|karthiga|     966|      10|2255153|Female|    Crayon Shin-chan|  TV|       Manga| 7.73|    17683|1032.0|      1937|Slice of Life, Co...|\n",
      "|karthiga|    1557|       8|2255153|Female|    Shounen Onmyouji|  TV| Light novel| 7.68|    14619|1158.0|      1793|Action, Magic, Fa...|\n",
      "|karthiga|    1571|       8|2255153|Female|          Ghost Hunt|  TV|       Novel| 7.92|    69224| 656.0|       527|Comedy, Horror, M...|\n",
      "|karthiga|    1579|       9|2255153|Female|Kiniro no Corda: ...|  TV|Visual novel| 7.63|    36820|1273.0|      1138|Comedy, Drama, Ha...|\n",
      "|karthiga|    1698|       7|2255153|Female|    Nodame Cantabile|  TV|       Manga| 8.41|    87363| 163.0|       381|Music, Slice of L...|\n",
      "|karthiga|    1735|       9|2255153|Female|  Naruto: Shippuuden|  TV|       Manga| 8.18|   385179| 337.0|        20|Action, Adventure...|\n",
      "+--------+--------+--------+-------+------+--------------------+----+------------+-----+---------+------+----------+--------------------+\n",
      "only showing top 20 rows\n",
      "\n"
     ]
    }
   ],
   "source": [
    "# Ruta al archivo CSV\n",
    "input_path = \"../../tests/vshort-final_animedataset.csv\"  # Cambia esta ruta según corresponda\n",
    "\n",
    "df = spark.read.format(\"csv\") \\\n",
    "    .option(\"header\", \"true\") \\\n",
    "    .option(\"quote\", \"\\\"\") \\\n",
    "    .option(\"escape\", \"\\\"\") \\\n",
    "    .load(input_path)\n",
    "\n",
    "df.show(20)"
   ]
  },
  {
   "cell_type": "code",
   "execution_count": 18,
   "metadata": {},
   "outputs": [
    {
     "name": "stdout",
     "output_type": "stream",
     "text": [
      "+--------+--------+--------+-------+------+-------------+----+------+-----+---------+------+----------+---------------------------------------------------------------+\n",
      "|username|anime_id|my_score|user_id|gender|title        |type|source|score|scored_by|rank  |popularity|genre                                                          |\n",
      "+--------+--------+--------+-------+------+-------------+----+------+-----+---------+------+----------+---------------------------------------------------------------+\n",
      "|karthiga|21      |9       |2255153|Female|One Piece    |TV  |Manga |8.54 |423868   |91.0  |35        |Action, Adventure, Comedy, Super Power, Drama, Fantasy, Shounen|\n",
      "|karthiga|59      |7       |2255153|Female|Chobits      |TV  |Manga |7.53 |175388   |1546.0|188       |Sci-Fi, Comedy, Drama, Romance, Ecchi, Seinen                  |\n",
      "|karthiga|74      |7       |2255153|Female|Gakuen Alice |TV  |Manga |7.77 |33244    |941.0 |1291      |Comedy, School, Shoujo, Super Power                            |\n",
      "|karthiga|120     |7       |2255153|Female|Fruits Basket|TV  |Manga |7.77 |167968   |939.0 |222       |Slice of Life, Comedy, Drama, Romance, Fantasy, Shoujo         |\n",
      "|karthiga|178     |7       |2255153|Female|Ultra Maniac |TV  |Manga |7.26 |9663     |2594.0|2490      |Magic, Comedy, Romance, School, Shoujo                         |\n",
      "+--------+--------+--------+-------+------+-------------+----+------+-----+---------+------+----------+---------------------------------------------------------------+\n",
      "only showing top 5 rows\n",
      "\n"
     ]
    }
   ],
   "source": [
    "# Filtrar filas donde 'source' y 'score' no sean nulos\n",
    "df_clean = df.filter((col(\"source\").isNotNull()) & (col(\"score\").isNotNull()))\n",
    "\n",
    "# Convertir 'score' a tipo float, en caso de que no se haya interpretado correctamente\n",
    "df_clean = df_clean.withColumn(\"score\", col(\"score\").cast(\"float\"))\n",
    "\n",
    "# Verificar la limpieza\n",
    "df_clean.show(5, truncate=False)"
   ]
  },
  {
   "cell_type": "code",
   "execution_count": 21,
   "metadata": {},
   "outputs": [
    {
     "name": "stdout",
     "output_type": "stream",
     "text": [
      "+------------+------------------+\n",
      "|source      |avg_score         |\n",
      "+------------+------------------+\n",
      "|Web manga   |8.149166584014893 |\n",
      "|Manga       |7.773083333174387 |\n",
      "|Light novel |7.7221848383671094|\n",
      "|Novel       |7.701379290942488 |\n",
      "|Original    |7.6814285599141625|\n",
      "|Other       |7.588888857099745 |\n",
      "|4-koma manga|7.370952333722796 |\n",
      "|Game        |7.240833401679993 |\n",
      "|Visual novel|7.223617066728308 |\n",
      "|Music       |7.190000057220459 |\n",
      "|Unknown     |6.778695707735808 |\n",
      "+------------+------------------+\n",
      "\n"
     ]
    }
   ],
   "source": [
    "\n",
    "# Agrupar por 'source' y calcular el promedio de 'score'\n",
    "result = df_clean.groupBy(\"source\").agg(avg(\"score\").alias(\"avg_score\"))\n",
    "\n",
    "# Ordenar los resultados de forma descendente según el promedio obtenido\n",
    "result_sorted = result.orderBy(col(\"avg_score\").desc())\n",
    "\n",
    "# Mostrar los resultados finales\n",
    "result_sorted.show(truncate=False)"
   ]
  },
  {
   "cell_type": "code",
   "execution_count": 12,
   "metadata": {},
   "outputs": [],
   "source": [
    "spark.stop()"
   ]
  }
 ],
 "metadata": {
  "kernelspec": {
   "display_name": "env",
   "language": "python",
   "name": "python3"
  },
  "language_info": {
   "codemirror_mode": {
    "name": "ipython",
    "version": 3
   },
   "file_extension": ".py",
   "mimetype": "text/x-python",
   "name": "python",
   "nbconvert_exporter": "python",
   "pygments_lexer": "ipython3",
   "version": "3.12.3"
  }
 },
 "nbformat": 4,
 "nbformat_minor": 4
}
