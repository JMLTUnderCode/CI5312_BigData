{
 "cells": [
  {
   "cell_type": "code",
   "execution_count": null,
   "metadata": {},
   "outputs": [],
   "source": [
    "\"\"\"\n",
    "\tAutores:\n",
    "\t- Astrid Alvarado\n",
    "\t- Junior Lara\n",
    "\"\"\"\n",
    "\n",
    "from pyspark.sql import SparkSession, Row\n",
    "from pyspark.sql.functions import udf, col, lower, avg, round, count, sum, when, first, explode, split\n",
    "from pyspark.sql.types import StructType, StructField, StringType, IntegerType, LongType, FloatType"
   ]
  },
  {
   "cell_type": "code",
   "execution_count": 5,
   "metadata": {},
   "outputs": [
    {
     "name": "stderr",
     "output_type": "stream",
     "text": [
      "your 131072x1 screen size is bogus. expect trouble\n",
      "Setting default log level to \"WARN\".\n",
      "To adjust logging level use sc.setLogLevel(newLevel). For SparkR, use setLogLevel(newLevel).\n",
      "25/03/28 21:52:22 WARN NativeCodeLoader: Unable to load native-hadoop library for your platform... using builtin-java classes where applicable\n"
     ]
    }
   ],
   "source": [
    "spark = SparkSession\\\n",
    "    .builder\\\n",
    "    .appName(\"Solver problema 3\")\\\n",
    "    .getOrCreate()"
   ]
  },
  {
   "cell_type": "code",
   "execution_count": 26,
   "metadata": {},
   "outputs": [
    {
     "name": "stdout",
     "output_type": "stream",
     "text": [
      "+--------+--------+--------+-------+------+-------------+----+------+-----+---------+------+----------+--------------------+\n",
      "|username|anime_id|my_score|user_id|gender|        title|type|source|score|scored_by|  rank|popularity|               genre|\n",
      "+--------+--------+--------+-------+------+-------------+----+------+-----+---------+------+----------+--------------------+\n",
      "|karthiga|      21|       9|2255153|Female|    One Piece|  TV| Manga| 8.54|   423868|  91.0|        35|Action, Adventure...|\n",
      "|karthiga|      59|       7|2255153|Female|      Chobits|  TV| Manga| 7.53|   175388|1546.0|       188|Sci-Fi, Comedy, D...|\n",
      "|karthiga|      74|       7|2255153|Female| Gakuen Alice|  TV| Manga| 7.77|    33244| 941.0|      1291|Comedy, School, S...|\n",
      "|karthiga|     120|       7|2255153|Female|Fruits Basket|  TV| Manga| 7.77|   167968| 939.0|       222|Slice of Life, Co...|\n",
      "|karthiga|     178|       7|2255153|Female| Ultra Maniac|  TV| Manga| 7.26|     9663|2594.0|      2490|Magic, Comedy, Ro...|\n",
      "+--------+--------+--------+-------+------+-------------+----+------+-----+---------+------+----------+--------------------+\n",
      "only showing top 5 rows\n",
      "\n"
     ]
    }
   ],
   "source": [
    "# Para esta primera parte basta con inferencia para extraer la data necesaria.\n",
    "# Se necesitan los siguientes campos\n",
    "# - title\n",
    "# - gender\n",
    "# - popularity\n",
    "\n",
    "file = \"../tests/vshort-final_animedataset.csv\"\n",
    "\n",
    "DF_FINAL_DATASET = spark\\\n",
    "\t.read\\\n",
    "\t.format(\"csv\")\\\n",
    "\t.option(\"header\", \"true\")\\\n",
    "\t.load(file)\n",
    "\n",
    "DF_FINAL_DATASET.show(5)"
   ]
  },
  {
   "cell_type": "code",
   "execution_count": null,
   "metadata": {},
   "outputs": [
    {
     "name": "stdout",
     "output_type": "stream",
     "text": [
      "+---------------------------------------------------+------------+----------+----------+-----------------+---------------+\n",
      "|title                                              |female_count|male_count|popularity|female_percentage|male_percentage|\n",
      "+---------------------------------------------------+------------+----------+----------+-----------------+---------------+\n",
      "|\"\"\"Bungaku Shoujo\"\" Movie\"                         |1           |0         |1556      |100.0            |0.0            |\n",
      "|\"Gyakuten Saiban: Sono \"\"Shinjitsu\"\"               |1           |1         |5839.0    |50.0             |50.0           |\n",
      "|\"Naruto Shippuuden: Shippuu! \"\"Konoha Gakuen\"\" Den\"|1           |0         |1771      |100.0            |0.0            |\n",
      "|.hack//Roots                                       |0           |1         |1391      |0.0              |100.0          |\n",
      "|.hack//Sign                                        |0           |1         |650       |0.0              |100.0          |\n",
      "|.hack//Tasogare no Udewa Densetsu                  |0           |1         |1474      |0.0              |100.0          |\n",
      "|11eyes                                             |1           |0         |487       |100.0            |0.0            |\n",
      "|12-sai.: Chicchana Mune no Tokimeki                |1           |0         |2789      |100.0            |0.0            |\n",
      "|3-gatsu no Lion                                    |1           |0         |391       |100.0            |0.0            |\n",
      "|3-gatsu no Lion 2nd Season                         |1           |0         |990       |100.0            |0.0            |\n",
      "|A Kite                                             |1           |0         |1946      |100.0            |0.0            |\n",
      "|ACCA: 13-ku Kansatsu-ka                            |1           |0         |1064      |100.0            |0.0            |\n",
      "|Accel World                                        |2           |0         |103       |100.0            |0.0            |\n",
      "|Afro Samurai                                       |1           |0         |449       |100.0            |0.0            |\n",
      "|Aho Girl                                           |1           |0         |492       |100.0            |0.0            |\n",
      "|Ai no Kusabi (2012)                                |1           |0         |2555      |100.0            |0.0            |\n",
      "|Air Gear                                           |1           |1         |297       |50.0             |50.0           |\n",
      "|Akagami no Shirayuki-hime                          |1           |0         |269       |100.0            |0.0            |\n",
      "|Akame ga Kill!                                     |1           |0         |25        |100.0            |0.0            |\n",
      "|Akatsuki no Yona                                   |1           |0         |165       |100.0            |0.0            |\n",
      "+---------------------------------------------------+------------+----------+----------+-----------------+---------------+\n",
      "only showing top 20 rows\n",
      "\n"
     ]
    }
   ],
   "source": [
    "# Por DataFrame\n",
    "\n",
    "# Calcular la cantidad de usuarios por género y la popularidad para cada título\n",
    "DF_count_female_male_by_title = DF_FINAL_DATASET.groupBy(\"title\") \\\n",
    "           .agg(\n",
    "               count(when(col(\"gender\") == \"Female\", 1)).alias(\"female_count\"),  # Contar las females\n",
    "               count(when(col(\"gender\") == \"Male\", 1)).alias(\"male_count\"),      # Contar los males\n",
    "               first(\"popularity\").alias(\"popularity\")                          # Tomar la popularidad única\n",
    "           )\n",
    "\n",
    "# Agregar las columnas de porcentaje para hombres y mujeres\n",
    "DF_count_female_male_by_title_with_percen = DF_count_female_male_by_title.withColumn(\n",
    "    \"female_percentage\", round((col(\"female_count\") / (col(\"female_count\") + col(\"male_count\")) * 100), 2)\n",
    ").withColumn(\n",
    "    \"male_percentage\", round((col(\"male_count\") / (col(\"female_count\") + col(\"male_count\")) * 100), 2)\n",
    ")\n",
    "\n",
    "# Mostrar los resultados\n",
    "DF_count_female_male_by_title_with_percen.show(truncate=False)"
   ]
  },
  {
   "cell_type": "code",
   "execution_count": 30,
   "metadata": {},
   "outputs": [
    {
     "name": "stdout",
     "output_type": "stream",
     "text": [
      "+---------------------------------------------------+------------+----------+----------+-----------------+---------------+\n",
      "|title                                              |female_count|male_count|popularity|female_percentage|male_percentage|\n",
      "+---------------------------------------------------+------------+----------+----------+-----------------+---------------+\n",
      "|\"\"\"Bungaku Shoujo\"\" Movie\"                         |1           |0         |1556      |100.00           |0.00           |\n",
      "|\"Gyakuten Saiban: Sono \"\"Shinjitsu\"\"               |1           |1         |5839.0    |50.00            |50.00          |\n",
      "|\"Naruto Shippuuden: Shippuu! \"\"Konoha Gakuen\"\" Den\"|1           |0         |1771      |100.00           |0.00           |\n",
      "|.hack//Roots                                       |0           |1         |1391      |0.00             |100.00         |\n",
      "|.hack//Sign                                        |0           |1         |650       |0.00             |100.00         |\n",
      "|.hack//Tasogare no Udewa Densetsu                  |0           |1         |1474      |0.00             |100.00         |\n",
      "|11eyes                                             |1           |0         |487       |100.00           |0.00           |\n",
      "|12-sai.: Chicchana Mune no Tokimeki                |1           |0         |2789      |100.00           |0.00           |\n",
      "|3-gatsu no Lion                                    |1           |0         |391       |100.00           |0.00           |\n",
      "|3-gatsu no Lion 2nd Season                         |1           |0         |990       |100.00           |0.00           |\n",
      "|A Kite                                             |1           |0         |1946      |100.00           |0.00           |\n",
      "|ACCA: 13-ku Kansatsu-ka                            |1           |0         |1064      |100.00           |0.00           |\n",
      "|Accel World                                        |2           |0         |103       |100.00           |0.00           |\n",
      "|Afro Samurai                                       |1           |0         |449       |100.00           |0.00           |\n",
      "|Aho Girl                                           |1           |0         |492       |100.00           |0.00           |\n",
      "|Ai no Kusabi (2012)                                |1           |0         |2555      |100.00           |0.00           |\n",
      "|Air Gear                                           |1           |1         |297       |50.00            |50.00          |\n",
      "|Akagami no Shirayuki-hime                          |1           |0         |269       |100.00           |0.00           |\n",
      "|Akame ga Kill!                                     |1           |0         |25        |100.00           |0.00           |\n",
      "|Akatsuki no Yona                                   |1           |0         |165       |100.00           |0.00           |\n",
      "+---------------------------------------------------+------------+----------+----------+-----------------+---------------+\n",
      "only showing top 20 rows\n",
      "\n"
     ]
    }
   ],
   "source": [
    "# Por SQL\n",
    "\n",
    "# Crear una vista temporal para el DataFrame\n",
    "DF_FINAL_DATASET.createOrReplaceTempView(\"final_dataset\")\n",
    "\n",
    "# Consulta SQL para calcular la cantidad de usuarios por género, la popularidad y los porcentajes\n",
    "SQL_count_female_male_by_title = spark.sql(\"\"\"\n",
    "    SELECT \n",
    "        title,\n",
    "        COUNT(CASE WHEN gender = 'Female' THEN 1 END) AS female_count,\n",
    "        COUNT(CASE WHEN gender = 'Male' THEN 1 END) AS male_count,\n",
    "        FIRST(popularity) AS popularity,\n",
    "        ROUND(COUNT(CASE WHEN gender = 'Female' THEN 1 END) * 100.0 / \n",
    "              (COUNT(CASE WHEN gender = 'Female' THEN 1 END) + COUNT(CASE WHEN gender = 'Male' THEN 1 END)), 2) AS female_percentage,\n",
    "        ROUND(COUNT(CASE WHEN gender = 'Male' THEN 1 END) * 100.0 / \n",
    "              (COUNT(CASE WHEN gender = 'Female' THEN 1 END) + COUNT(CASE WHEN gender = 'Male' THEN 1 END)), 2) AS male_percentage\n",
    "    FROM \n",
    "        final_dataset\n",
    "    GROUP BY \n",
    "        title\n",
    "\"\"\")\n",
    "\n",
    "# Mostrar los resultados\n",
    "SQL_count_female_male_by_title.show(truncate=False)"
   ]
  },
  {
   "cell_type": "code",
   "execution_count": null,
   "metadata": {},
   "outputs": [
    {
     "name": "stdout",
     "output_type": "stream",
     "text": [
      "+------------+------------+----------+-----------------+---------------+\n",
      "|genre       |female_count|male_count|female_percentage|male_percentage|\n",
      "+------------+------------+----------+-----------------+---------------+\n",
      "|Seinen      |82          |16        |83.67            |16.33          |\n",
      "|Romance     |241         |58        |80.6             |19.4           |\n",
      "|Dementia    |18          |7         |72.0             |28.0           |\n",
      "|Magic       |60          |26        |69.77            |30.23          |\n",
      "|Thriller    |40          |15        |72.73            |27.27          |\n",
      "|Josei       |21          |4         |84.0             |16.0           |\n",
      "|Adventure   |124         |78        |61.39            |38.61          |\n",
      "|Super Power |64          |45        |58.72            |41.28          |\n",
      "|Martial Arts|23          |6         |79.31            |20.69          |\n",
      "|Sports      |29          |7         |80.56            |19.44          |\n",
      "|Shoujo      |74          |11        |87.06            |12.94          |\n",
      "|Drama       |268         |96        |73.63            |26.37          |\n",
      "|Shoujo Ai   |7           |2         |77.78            |22.22          |\n",
      "|School      |176         |40        |81.48            |18.52          |\n",
      "|Hentai      |10          |0         |100.0            |0.0            |\n",
      "|Military    |39          |21        |65.0             |35.0           |\n",
      "|Samurai     |16          |4         |80.0             |20.0           |\n",
      "|Yaoi        |18          |0         |100.0            |0.0            |\n",
      "|Fantasy     |144         |59        |70.94            |29.06          |\n",
      "|Shounen Ai  |30          |0         |100.0            |0.0            |\n",
      "+------------+------------+----------+-----------------+---------------+\n",
      "only showing top 20 rows\n",
      "\n",
      "+------------+------------+----------+-----------------+---------------+\n",
      "|genre       |female_count|male_count|female_percentage|male_percentage|\n",
      "+------------+------------+----------+-----------------+---------------+\n",
      "|Seinen      |82          |16        |83.67            |16.33          |\n",
      "|Romance     |241         |58        |80.6             |19.4           |\n",
      "|Dementia    |18          |7         |72.0             |28.0           |\n",
      "|Magic       |60          |26        |69.77            |30.23          |\n",
      "|Thriller    |40          |15        |72.73            |27.27          |\n",
      "|Josei       |21          |4         |84.0             |16.0           |\n",
      "|Adventure   |124         |78        |61.39            |38.61          |\n",
      "|Super Power |64          |45        |58.72            |41.28          |\n",
      "|Martial Arts|23          |6         |79.31            |20.69          |\n",
      "|Sports      |29          |7         |80.56            |19.44          |\n",
      "|Shoujo      |74          |11        |87.06            |12.94          |\n",
      "|Drama       |268         |96        |73.63            |26.37          |\n",
      "|Shoujo Ai   |7           |2         |77.78            |22.22          |\n",
      "|School      |176         |40        |81.48            |18.52          |\n",
      "|Hentai      |10          |0         |100.0            |0.0            |\n",
      "|Military    |39          |21        |65.0             |35.0           |\n",
      "|Samurai     |16          |4         |80.0             |20.0           |\n",
      "|Yaoi        |18          |0         |100.0            |0.0            |\n",
      "|Fantasy     |144         |59        |70.94            |29.06          |\n",
      "|Shounen Ai  |30          |0         |100.0            |0.0            |\n",
      "+------------+------------+----------+-----------------+---------------+\n",
      "only showing top 20 rows\n",
      "\n"
     ]
    }
   ],
   "source": [
    "# Para esta segunda parte basta con inferencia para extraer la data necesaria.\n",
    "# Se necesitan los siguientes campos\n",
    "# - gender\n",
    "# - genre\n",
    "\n",
    "# Por DataFrame\n",
    "\n",
    "# Separar los géneros en la columna \"genre\" y explotar la lista en filas individuales\n",
    "df_exploded_genres = DF_FINAL_DATASET.withColumn(\"genre\", explode(split(col(\"genre\"), \", \")))\n",
    "\n",
    "# Contar la cantidad de usuarios por género (Female y Male) para cada género de anime\n",
    "DF_count_female_male_by_genres = df_exploded_genres.groupBy(\"genre\") \\\n",
    "           .agg(\n",
    "               count(when(col(\"gender\") == \"Female\", 1)).alias(\"female_count\"),  # Contar las females\n",
    "               count(when(col(\"gender\") == \"Male\", 1)).alias(\"male_count\")       # Contar los males\n",
    "           )\n",
    "\n",
    "\n",
    "# Agregar las columnas de porcentaje para hombres y mujeres con redondeo a 2 decimales\n",
    "DF_count_female_male_by_genres_with_percen = DF_count_female_male_by_genres.withColumn(\n",
    "    \"female_percentage\", round((col(\"female_count\") / (col(\"female_count\") + col(\"male_count\")) * 100), 2)\n",
    ").withColumn(\n",
    "    \"male_percentage\", round((col(\"male_count\") / (col(\"female_count\") + col(\"male_count\")) * 100), 2)\n",
    ")\n",
    "\n",
    "# Mostrar los resultados\n",
    "DF_count_female_male_by_genres_with_percen.show(truncate=False)"
   ]
  },
  {
   "cell_type": "code",
   "execution_count": 32,
   "metadata": {},
   "outputs": [
    {
     "name": "stdout",
     "output_type": "stream",
     "text": [
      "+------------+------------+----------+-----------------+---------------+\n",
      "|genre       |female_count|male_count|female_percentage|male_percentage|\n",
      "+------------+------------+----------+-----------------+---------------+\n",
      "|Seinen      |82          |16        |83.67            |16.33          |\n",
      "|Romance     |241         |58        |80.60            |19.40          |\n",
      "|Dementia    |18          |7         |72.00            |28.00          |\n",
      "|Magic       |60          |26        |69.77            |30.23          |\n",
      "|Thriller    |40          |15        |72.73            |27.27          |\n",
      "|Josei       |21          |4         |84.00            |16.00          |\n",
      "|Adventure   |124         |78        |61.39            |38.61          |\n",
      "|Super Power |64          |45        |58.72            |41.28          |\n",
      "|Martial Arts|23          |6         |79.31            |20.69          |\n",
      "|Sports      |29          |7         |80.56            |19.44          |\n",
      "|Shoujo      |74          |11        |87.06            |12.94          |\n",
      "|Drama       |268         |96        |73.63            |26.37          |\n",
      "|Shoujo Ai   |7           |2         |77.78            |22.22          |\n",
      "|School      |176         |40        |81.48            |18.52          |\n",
      "|Hentai      |10          |0         |100.00           |0.00           |\n",
      "|Military    |39          |21        |65.00            |35.00          |\n",
      "|Samurai     |16          |4         |80.00            |20.00          |\n",
      "|Yaoi        |18          |0         |100.00           |0.00           |\n",
      "|Fantasy     |144         |59        |70.94            |29.06          |\n",
      "|Shounen Ai  |30          |0         |100.00           |0.00           |\n",
      "+------------+------------+----------+-----------------+---------------+\n",
      "only showing top 20 rows\n",
      "\n"
     ]
    }
   ],
   "source": [
    "# Por SQL\n",
    "\n",
    "# Crear una vista temporal para el DataFrame\n",
    "DF_FINAL_DATASET.createOrReplaceTempView(\"final_dataset\")\n",
    "\n",
    "# Consulta SQL para calcular la cantidad de usuarios por género y los porcentajes para cada género\n",
    "SQL_count_female_male_by_genres = spark.sql(\"\"\"\n",
    "    SELECT \n",
    "        genre,\n",
    "        COUNT(CASE WHEN gender = 'Female' THEN 1 END) AS female_count,\n",
    "        COUNT(CASE WHEN gender = 'Male' THEN 1 END) AS male_count,\n",
    "        ROUND(COUNT(CASE WHEN gender = 'Female' THEN 1 END) * 100.0 / \n",
    "              (COUNT(CASE WHEN gender = 'Female' THEN 1 END) + COUNT(CASE WHEN gender = 'Male' THEN 1 END)), 2) AS female_percentage,\n",
    "        ROUND(COUNT(CASE WHEN gender = 'Male' THEN 1 END) * 100.0 / \n",
    "              (COUNT(CASE WHEN gender = 'Female' THEN 1 END) + COUNT(CASE WHEN gender = 'Male' THEN 1 END)), 2) AS male_percentage\n",
    "    FROM (\n",
    "        SELECT \n",
    "            gender,\n",
    "            EXPLODE(SPLIT(genre, ', ')) AS genre\n",
    "        FROM \n",
    "            final_dataset\n",
    "    ) exploded_genres\n",
    "    GROUP BY \n",
    "        genre\n",
    "\"\"\")\n",
    "\n",
    "# Mostrar los resultados\n",
    "SQL_count_female_male_by_genres.show(truncate=False)"
   ]
  },
  {
   "cell_type": "code",
   "execution_count": 29,
   "metadata": {},
   "outputs": [
    {
     "name": "stdout",
     "output_type": "stream",
     "text": [
      "+------------+------------+----------+-----------------+---------------+\n",
      "|      source|female_count|male_count|female_percentage|male_percentage|\n",
      "+------------+------------+----------+-----------------+---------------+\n",
      "|          TV|           1|         1|             50.0|           50.0|\n",
      "|Visual novel|          36|        11|             76.6|           23.4|\n",
      "|    Original|         136|        81|            62.67|          37.33|\n",
      "|       Novel|          43|        15|            74.14|          25.86|\n",
      "|     Unknown|          23|         0|            100.0|            0.0|\n",
      "|       Other|           7|         2|            77.78|          22.22|\n",
      "|       Manga|         374|       106|            77.92|          22.08|\n",
      "|4-koma manga|          20|         1|            95.24|           4.76|\n",
      "|       Music|           1|         1|             50.0|           50.0|\n",
      "|        Game|           7|         3|             70.0|           30.0|\n",
      "|   Web manga|          11|         1|            91.67|           8.33|\n",
      "| Light novel|          95|        24|            79.83|          20.17|\n",
      "+------------+------------+----------+-----------------+---------------+\n",
      "\n"
     ]
    }
   ],
   "source": [
    "# Para esta tercera parte basta con inferencia para extraer la data necesaria.\n",
    "# Se necesitan los siguientes campos\n",
    "# - source\n",
    "# - gender\n",
    "\n",
    "# Por DataFrame\n",
    "\n",
    "DF_count_female_male_by_source = DF_FINAL_DATASET.groupBy(\"source\") \\\n",
    "           .agg(\n",
    "               count(when(col(\"gender\") == \"Female\", 1)).alias(\"female_count\"),  # Contar las females\n",
    "               count(when(col(\"gender\") == \"Male\", 1)).alias(\"male_count\")      # Contar los males\n",
    "           )\n",
    "\n",
    "#DF_count_female_male_by_source_with_percen\n",
    "\n",
    "# Agregar las columnas de porcentaje para hombres y mujeres con redondeo a 2 decimales\n",
    "DF_count_female_male_by_source_with_percen = DF_count_female_male_by_source.withColumn(\\\n",
    "\t\"female_percentage\", round((col(\"female_count\") / (col(\"female_count\") + col(\"male_count\")) * 100), 2)\n",
    ").withColumn(\n",
    "    \"male_percentage\", round((col(\"male_count\") / (col(\"female_count\") + col(\"male_count\")) * 100), 2)\n",
    ")\n",
    "\n",
    "# Mostrar los resultados\n",
    "DF_count_female_male_by_source_with_percen.show()"
   ]
  },
  {
   "cell_type": "code",
   "execution_count": 33,
   "metadata": {},
   "outputs": [
    {
     "name": "stdout",
     "output_type": "stream",
     "text": [
      "+------------+------------+----------+-----------------+---------------+\n",
      "|      source|female_count|male_count|female_percentage|male_percentage|\n",
      "+------------+------------+----------+-----------------+---------------+\n",
      "|          TV|           1|         1|            50.00|          50.00|\n",
      "|Visual novel|          36|        11|            76.60|          23.40|\n",
      "|    Original|         136|        81|            62.67|          37.33|\n",
      "|       Novel|          43|        15|            74.14|          25.86|\n",
      "|     Unknown|          23|         0|           100.00|           0.00|\n",
      "|       Other|           7|         2|            77.78|          22.22|\n",
      "|       Manga|         374|       106|            77.92|          22.08|\n",
      "|4-koma manga|          20|         1|            95.24|           4.76|\n",
      "|       Music|           1|         1|            50.00|          50.00|\n",
      "|        Game|           7|         3|            70.00|          30.00|\n",
      "|   Web manga|          11|         1|            91.67|           8.33|\n",
      "| Light novel|          95|        24|            79.83|          20.17|\n",
      "+------------+------------+----------+-----------------+---------------+\n",
      "\n"
     ]
    }
   ],
   "source": [
    "# Por SQL\n",
    "\n",
    "# Crear una vista temporal para el DataFrame\n",
    "DF_FINAL_DATASET.createOrReplaceTempView(\"final_dataset\")\n",
    "\n",
    "# Consulta SQL para calcular la cantidad de usuarios por género y los porcentajes para cada source\n",
    "SQL_count_female_male_by_source = spark.sql(\"\"\"\n",
    "    SELECT \n",
    "        source,\n",
    "        COUNT(CASE WHEN gender = 'Female' THEN 1 END) AS female_count,\n",
    "        COUNT(CASE WHEN gender = 'Male' THEN 1 END) AS male_count,\n",
    "        ROUND(COUNT(CASE WHEN gender = 'Female' THEN 1 END) * 100.0 / \n",
    "              (COUNT(CASE WHEN gender = 'Female' THEN 1 END) + COUNT(CASE WHEN gender = 'Male' THEN 1 END)), 2) AS female_percentage,\n",
    "        ROUND(COUNT(CASE WHEN gender = 'Male' THEN 1 END) * 100.0 / \n",
    "              (COUNT(CASE WHEN gender = 'Female' THEN 1 END) + COUNT(CASE WHEN gender = 'Male' THEN 1 END)), 2) AS male_percentage\n",
    "    FROM \n",
    "        final_dataset\n",
    "    GROUP BY \n",
    "        source\n",
    "\"\"\")\n",
    "\n",
    "# Mostrar los resultados\n",
    "SQL_count_female_male_by_source.show()"
   ]
  },
  {
   "cell_type": "code",
   "execution_count": null,
   "metadata": {},
   "outputs": [],
   "source": [
    "# Para esta cuarta parte basta con inferencia para extraer la data necesaria.\n",
    "# Se necesitan los siguientes campos\n",
    "# - \n",
    "# - "
   ]
  },
  {
   "cell_type": "code",
   "execution_count": 34,
   "metadata": {},
   "outputs": [],
   "source": [
    "spark.stop()"
   ]
  }
 ],
 "metadata": {
  "kernelspec": {
   "display_name": "env",
   "language": "python",
   "name": "python3"
  },
  "language_info": {
   "codemirror_mode": {
    "name": "ipython",
    "version": 3
   },
   "file_extension": ".py",
   "mimetype": "text/x-python",
   "name": "python",
   "nbconvert_exporter": "python",
   "pygments_lexer": "ipython3",
   "version": "3.12.3"
  }
 },
 "nbformat": 4,
 "nbformat_minor": 2
}
